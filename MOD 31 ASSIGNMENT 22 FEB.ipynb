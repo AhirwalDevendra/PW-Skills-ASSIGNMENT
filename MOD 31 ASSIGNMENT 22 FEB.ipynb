{
 "cells": [
  {
   "cell_type": "markdown",
   "id": "2297643d",
   "metadata": {},
   "source": [
    "# Q1. Create a Pandas Series that contains the following data: 4, 8, 15, 16, 23, and 42. Then, print the series."
   ]
  },
  {
   "cell_type": "code",
   "execution_count": 1,
   "id": "752c3552",
   "metadata": {},
   "outputs": [],
   "source": [
    "import pandas as pd"
   ]
  },
  {
   "cell_type": "code",
   "execution_count": 7,
   "id": "7c8802e6",
   "metadata": {},
   "outputs": [
    {
     "data": {
      "text/plain": [
       "0     4\n",
       "1     8\n",
       "2    15\n",
       "3    16\n",
       "4    23\n",
       "5    42\n",
       "dtype: int64"
      ]
     },
     "execution_count": 7,
     "metadata": {},
     "output_type": "execute_result"
    }
   ],
   "source": [
    "\n",
    "series=pd.Series([4, 8, 15, 16, 23,42])\n",
    "series"
   ]
  },
  {
   "cell_type": "markdown",
   "id": "23cb1307",
   "metadata": {},
   "source": [
    "# Q2. Create a variable of list type containing 10 elements in it, and apply pandas.Series function on the variable print it."
   ]
  },
  {
   "cell_type": "code",
   "execution_count": 5,
   "id": "9422b9c7",
   "metadata": {},
   "outputs": [
    {
     "data": {
      "text/plain": [
       "0                  4\n",
       "1                dev\n",
       "2    [1425, ahirwal]\n",
       "3                457\n",
       "4                 78\n",
       "5                859\n",
       "6                 78\n",
       "7                 47\n",
       "dtype: object"
      ]
     },
     "execution_count": 5,
     "metadata": {},
     "output_type": "execute_result"
    }
   ],
   "source": [
    "data1=[4,\"dev\",[1425,\"ahirwal\"],457,78,859,78,47]\n",
    "s1=pd.Series(data1)\n",
    "s1"
   ]
  },
  {
   "cell_type": "markdown",
   "id": "8ae401d2",
   "metadata": {},
   "source": [
    "# Q3. Create a Pandas DataFrame that contains the following data:"
   ]
  },
  {
   "cell_type": "code",
   "execution_count": 9,
   "id": "b9d66c45",
   "metadata": {},
   "outputs": [
    {
     "data": {
      "text/html": [
       "<div>\n",
       "<style scoped>\n",
       "    .dataframe tbody tr th:only-of-type {\n",
       "        vertical-align: middle;\n",
       "    }\n",
       "\n",
       "    .dataframe tbody tr th {\n",
       "        vertical-align: top;\n",
       "    }\n",
       "\n",
       "    .dataframe thead th {\n",
       "        text-align: right;\n",
       "    }\n",
       "</style>\n",
       "<table border=\"1\" class=\"dataframe\">\n",
       "  <thead>\n",
       "    <tr style=\"text-align: right;\">\n",
       "      <th></th>\n",
       "      <th>Name</th>\n",
       "      <th>Age</th>\n",
       "      <th>Gender</th>\n",
       "    </tr>\n",
       "  </thead>\n",
       "  <tbody>\n",
       "    <tr>\n",
       "      <th>0</th>\n",
       "      <td>Alice</td>\n",
       "      <td>25</td>\n",
       "      <td>Female</td>\n",
       "    </tr>\n",
       "    <tr>\n",
       "      <th>1</th>\n",
       "      <td>Bob</td>\n",
       "      <td>30</td>\n",
       "      <td>Male</td>\n",
       "    </tr>\n",
       "    <tr>\n",
       "      <th>2</th>\n",
       "      <td>Claire</td>\n",
       "      <td>27</td>\n",
       "      <td>Female</td>\n",
       "    </tr>\n",
       "  </tbody>\n",
       "</table>\n",
       "</div>"
      ],
      "text/plain": [
       "     Name  Age  Gender\n",
       "0   Alice   25  Female\n",
       "1     Bob   30    Male\n",
       "2  Claire   27  Female"
      ]
     },
     "execution_count": 9,
     "metadata": {},
     "output_type": "execute_result"
    }
   ],
   "source": [
    "import pandas as pd\n",
    "\n",
    "data = {\n",
    "    'Name': ['Alice', 'Bob', 'Claire'],\n",
    "    'Age': [25, 30, 27],\n",
    "    'Gender': ['Female', 'Male', 'Female']\n",
    "}\n",
    "df = pd.DataFrame(data)\n",
    "\n",
    "\n",
    "df.head()"
   ]
  },
  {
   "cell_type": "markdown",
   "id": "02773fb9",
   "metadata": {},
   "source": [
    "# Q4. What is ‘DataFrame’ in pandas and how is it different from pandas.series? Explain with an example."
   ]
  },
  {
   "cell_type": "code",
   "execution_count": null,
   "id": "8fe47a71",
   "metadata": {},
   "outputs": [],
   "source": [
    "Pandas DataFrame:\n",
    "    \n",
    "Definition: A two-dimensional labeled data structure with columns of potentially different types.\n",
    "Structure: Similar to a table or a spreadsheet with rows and columns.\n",
    "Index and Columns: Each row and each column has a unique label."
   ]
  },
  {
   "cell_type": "code",
   "execution_count": null,
   "id": "311bd203",
   "metadata": {},
   "outputs": [],
   "source": [
    "example:\n",
    "import pandas as pd\n",
    "\n",
    "data = {\n",
    "    'Name': ['Alice', 'Bob', 'Claire'],\n",
    "    'Age': [25, 30, 27],\n",
    "    'Gender': ['Female', 'Male', 'Female']\n",
    "}\n",
    "df = pd.DataFrame(data)\n",
    "\n",
    "\n",
    "df.head()"
   ]
  },
  {
   "cell_type": "code",
   "execution_count": null,
   "id": "0154c8e1",
   "metadata": {},
   "outputs": [],
   "source": [
    "DataFrame vs. Series in Pandas \n",
    "\n",
    "Pandas Series:\n",
    "    \n",
    "Definition: A one-dimensional labeled array capable of holding data of any type (integers, strings, floats, etc.).\n",
    "Structure: Similar to a column in a table or an Excel spreadsheet.\n",
    "Index: Each element in a Series has a unique label (index)."
   ]
  },
  {
   "cell_type": "code",
   "execution_count": null,
   "id": "ac10dbd0",
   "metadata": {},
   "outputs": [],
   "source": [
    "series=pd.Series([4, 8, 15, 16, 23,42])\n",
    "series"
   ]
  },
  {
   "cell_type": "raw",
   "id": "dbc4da1c",
   "metadata": {},
   "source": [
    "Key Differences:\n",
    "    \n",
    "Dimension:\n",
    "\n",
    "Series: One-dimensional.\n",
    "    \n",
    "DataFrame: Two-dimensional.\n",
    "    \n",
    "Structure:\n",
    "\n",
    "Series: Single column of data with an index.\n",
    "    \n",
    "DataFrame: Multiple columns of data, where each column can have different types of data.\n",
    "Usage:\n",
    "\n",
    "Series: Used when you need a single column of data.\n",
    "    \n",
    "DataFrame: Used when you need a table-like structure with multiple columns and rows."
   ]
  },
  {
   "cell_type": "markdown",
   "id": "d3976f2c",
   "metadata": {},
   "source": [
    "# Q5. What are some common functions you can use to manipulate data in a Pandas DataFrame? Can you give an example of when you might use one of these functions?"
   ]
  },
  {
   "cell_type": "code",
   "execution_count": null,
   "id": "add2dfac",
   "metadata": {},
   "outputs": [],
   "source": [
    "a.Selection and Indexing:\n",
    "\n",
    "df['column_name'] or df.column_name: Select a single column.\n",
    "df[['column_name1', 'column_name2']]: Select multiple columns.\n",
    "df.loc[row_indexer, column_indexer]: Access a group of rows and columns by labels.\n",
    "df.iloc[row_indexer, column_indexer]: Access a group of rows and columns by integer position."
   ]
  },
  {
   "cell_type": "code",
   "execution_count": null,
   "id": "47e384c9",
   "metadata": {},
   "outputs": [],
   "source": [
    "# Example: Selecting a single column and displaying its values:\n",
    "\n",
    "import pandas as pd\n",
    "\n",
    "\n",
    "data = {\n",
    "    'Name': ['Alice', 'Bob', 'Claire'],\n",
    "    'Age': [25, 30, 27],\n",
    "    'Gender': ['Female', 'Male', 'Female']\n",
    "}\n",
    "df = pd.DataFrame(data"
   ]
  },
  {
   "cell_type": "code",
   "execution_count": null,
   "id": "1b384e8a",
   "metadata": {},
   "outputs": [],
   "source": [
    "Filtering and Querying:\n",
    "\n",
    "df[df['column_name'] > value]: Filter rows based on a condition.\n",
    "df.query('column_name > value'): Filter rows using a SQL-like query syntax."
   ]
  },
  {
   "cell_type": "code",
   "execution_count": null,
   "id": "0771f02a",
   "metadata": {},
   "outputs": [],
   "source": [
    "# Example: Filtering rows based on a condition:\n",
    "\n",
    "\n",
    "filtered_df = df[df['Age'] > 25]\n",
    "print(filtered_df)\n"
   ]
  },
  {
   "cell_type": "code",
   "execution_count": null,
   "id": "3c793831",
   "metadata": {},
   "outputs": [],
   "source": [
    "sorting:\n",
    "\n",
    "df.sort_values(by='column_name', ascending=False): Sort DataFrame by one or more columns.\n",
    "df.sort_index(): Sort DataFrame by index labels."
   ]
  },
  {
   "cell_type": "code",
   "execution_count": null,
   "id": "4e32a28c",
   "metadata": {},
   "outputs": [],
   "source": [
    "# Example: Sorting DataFrame by a column:\n",
    "\n",
    "sorted_df = df.sort_values(by='Age', ascending=False)\n",
    "print(sorted_df)\n"
   ]
  },
  {
   "cell_type": "code",
   "execution_count": null,
   "id": "8b9feed3",
   "metadata": {},
   "outputs": [],
   "source": [
    "Aggregation and Grouping:\n",
    "\n",
    "df.groupby('column_name').agg({'column_name': 'function'}): \n",
    "    Perform aggregation operations (like sum, mean, count) on grouped data."
   ]
  },
  {
   "cell_type": "code",
   "execution_count": null,
   "id": "2ed58ad4",
   "metadata": {},
   "outputs": [],
   "source": [
    "# Example: Grouping data by Gender and calculating the average age:\n",
    "        \n",
    "        \n",
    "avg_age_by_gender = df.groupby('Gender').agg({'Age': 'mean'})\n",
    "print(avg_age_by_gender)\n"
   ]
  },
  {
   "cell_type": "code",
   "execution_count": null,
   "id": "833da3be",
   "metadata": {},
   "outputs": [],
   "source": [
    "Data Cleaning and Transformation:\n",
    "\n",
    "df.dropna(): Remove missing values (NaN).\n",
    "df.fillna(value): Replace missing values with a specific value.\n",
    "df.apply(function): Apply a function to each element in the DataFrame.\n",
    "    \n",
    "Example: Filling missing values with a specific value:"
   ]
  },
  {
   "cell_type": "code",
   "execution_count": null,
   "id": "f2a04982",
   "metadata": {},
   "outputs": [],
   "source": [
    "\n",
    "df['Age'].fillna(df['Age'].mean(), inplace=True)\n"
   ]
  },
  {
   "cell_type": "code",
   "execution_count": null,
   "id": "eb05510d",
   "metadata": {},
   "outputs": [],
   "source": [
    "Combining DataFrames:\n",
    "\n",
    "pd.concat([df1, df2]): Concatenate DataFrames vertically or horizontally.\n",
    "pd.merge(df1, df2, on='key_column'): Merge DataFrames based on a common column.\n",
    "    \n",
    "Example: Concatenating two DataFrames vertically:"
   ]
  },
  {
   "cell_type": "code",
   "execution_count": null,
   "id": "976db42f",
   "metadata": {},
   "outputs": [],
   "source": [
    "\n",
    "combined_df = pd.concat([df1, df2], axis=0)\n"
   ]
  },
  {
   "cell_type": "markdown",
   "id": "e72f4ea7",
   "metadata": {},
   "source": [
    "# Q6. Which of the following is mutable in nature Series, DataFrame, Panel?"
   ]
  },
  {
   "cell_type": "raw",
   "id": "41d467d0",
   "metadata": {},
   "source": [
    " DataFrame"
   ]
  },
  {
   "cell_type": "markdown",
   "id": "bae088d4",
   "metadata": {},
   "source": [
    "# Q7. Create a DataFrame using multiple Series. Explain with an example."
   ]
  },
  {
   "cell_type": "code",
   "execution_count": 10,
   "id": "c812ba5b",
   "metadata": {},
   "outputs": [
    {
     "data": {
      "text/html": [
       "<div>\n",
       "<style scoped>\n",
       "    .dataframe tbody tr th:only-of-type {\n",
       "        vertical-align: middle;\n",
       "    }\n",
       "\n",
       "    .dataframe tbody tr th {\n",
       "        vertical-align: top;\n",
       "    }\n",
       "\n",
       "    .dataframe thead th {\n",
       "        text-align: right;\n",
       "    }\n",
       "</style>\n",
       "<table border=\"1\" class=\"dataframe\">\n",
       "  <thead>\n",
       "    <tr style=\"text-align: right;\">\n",
       "      <th></th>\n",
       "      <th>Name</th>\n",
       "      <th>Age</th>\n",
       "    </tr>\n",
       "  </thead>\n",
       "  <tbody>\n",
       "    <tr>\n",
       "      <th>0</th>\n",
       "      <td>Alice</td>\n",
       "      <td>25</td>\n",
       "    </tr>\n",
       "    <tr>\n",
       "      <th>1</th>\n",
       "      <td>Bob</td>\n",
       "      <td>30</td>\n",
       "    </tr>\n",
       "    <tr>\n",
       "      <th>2</th>\n",
       "      <td>Claire</td>\n",
       "      <td>27</td>\n",
       "    </tr>\n",
       "  </tbody>\n",
       "</table>\n",
       "</div>"
      ],
      "text/plain": [
       "     Name  Age\n",
       "0   Alice   25\n",
       "1     Bob   30\n",
       "2  Claire   27"
      ]
     },
     "execution_count": 10,
     "metadata": {},
     "output_type": "execute_result"
    }
   ],
   "source": [
    "series_name = pd.Series(['Alice', 'Bob', 'Claire'])\n",
    "series_age = pd.Series([25, 30, 27])\n",
    "\n",
    "df = pd.DataFrame({\n",
    "    'Name': series_name,\n",
    "    'Age': series_age})\n",
    "df.head()"
   ]
  },
  {
   "cell_type": "code",
   "execution_count": null,
   "id": "8bd4776f",
   "metadata": {},
   "outputs": [],
   "source": []
  },
  {
   "cell_type": "code",
   "execution_count": null,
   "id": "030ab61d",
   "metadata": {},
   "outputs": [],
   "source": []
  }
 ],
 "metadata": {
  "kernelspec": {
   "display_name": "Python 3 (ipykernel)",
   "language": "python",
   "name": "python3"
  },
  "language_info": {
   "codemirror_mode": {
    "name": "ipython",
    "version": 3
   },
   "file_extension": ".py",
   "mimetype": "text/x-python",
   "name": "python",
   "nbconvert_exporter": "python",
   "pygments_lexer": "ipython3",
   "version": "3.10.9"
  }
 },
 "nbformat": 4,
 "nbformat_minor": 5
}
