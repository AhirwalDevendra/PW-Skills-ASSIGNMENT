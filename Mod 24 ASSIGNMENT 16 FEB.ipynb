{
 "cells": [
  {
   "cell_type": "markdown",
   "id": "1286ec33",
   "metadata": {},
   "source": [
    "# Q1. What is a database? Differentiate between SQL and NoSQL databases."
   ]
  },
  {
   "cell_type": "raw",
   "id": "58d0dd60",
   "metadata": {},
   "source": [
    "What is a database?\n",
    "\n",
    "A database is an organized collection of data, generally stored and accessed electronically from a computer system. \n",
    "Databases can be complex, and  they are managed by Database Management Systems (DBMS)."
   ]
  },
  {
   "cell_type": "raw",
   "id": "f47959d2",
   "metadata": {},
   "source": [
    "Differences between SQL and NoSQL databases:\n",
    "\n",
    "SQL Databases:\n",
    "\n",
    "Relational databases.\n",
    "\n",
    "1.Use structured query language (SQL) for defining and manipulating data.\n",
    "2.Schema-based, which means a fixed schema is required.\n",
    "3.Best suited for complex queries.\n",
    "4.Examples include MySQL, PostgreSQL, Oracle Database, and Microsoft SQL Server.\n",
    "  NoSQL Databases:\n",
    "\n",
    "Non-relational databases\n",
    ".\n",
    "1.Designed for large-scale data storage and for real-time web applications.\n",
    "2.Schema-less, which means no fixed schema is required.\n",
    "3.Can handle structured, semi-structured, and unstructured data.\n",
    "4.Examples include MongoDB, Cassandra, Redis, and CouchDB."
   ]
  },
  {
   "cell_type": "markdown",
   "id": "47df8675",
   "metadata": {},
   "source": [
    "# Q2. What is DDL? Explain why CREATE, DROP, ALTER, and TRUNCATE are used with an example."
   ]
  },
  {
   "cell_type": "raw",
   "id": "75144b16",
   "metadata": {},
   "source": [
    "What is DDL?\n",
    "\n",
    "DDL (Data Definition Language) is used to ,define and modify the database structure. \n",
    "It includes commands like CREATE, DROP, ALTER, and TRUNCATE.\n"
   ]
  },
  {
   "cell_type": "code",
   "execution_count": null,
   "id": "18d5e372",
   "metadata": {},
   "outputs": [],
   "source": [
    "# CREATE: Used to create a new table or database:\n",
    "        \n",
    "CREATE TABLE Employees (\n",
    "    ID INT PRIMARY KEY,\n",
    "    Name VARCHAR(100),\n",
    "    Age INT,\n",
    "    Department VARCHAR(50)\n",
    ");\n"
   ]
  },
  {
   "cell_type": "raw",
   "id": "8e1d43ff",
   "metadata": {},
   "source": [
    "DROP: Used to delete an existing table or database\n",
    "\n",
    "     DROP TABLE Employees;\n"
   ]
  },
  {
   "cell_type": "raw",
   "id": "29a76752",
   "metadata": {},
   "source": [
    "ALTER: Used to modify an existing database object, like a table.\n",
    "    \n",
    "    ALTER TABLE Employees ADD COLUMN Salary DECIMAL(10, 2);\n"
   ]
  },
  {
   "cell_type": "raw",
   "id": "02772c27",
   "metadata": {},
   "source": [
    "TRUNCATE: Used to remove all records from a table, but not the table itself.\n",
    "    \n",
    "    TRUNCATE TABLE Employees;\n"
   ]
  },
  {
   "cell_type": "markdown",
   "id": "502bdda5",
   "metadata": {},
   "source": [
    "# Q3. What is DML? Explain INSERT, UPDATE, and DELETE with an example.\n"
   ]
  },
  {
   "cell_type": "raw",
   "id": "2a7e5069",
   "metadata": {},
   "source": [
    "What is DML?\n",
    "\n",
    "DML (Data Manipulation Language) is used for managing data within schema objects.\n",
    "It includes INSERT, UPDATE, and DELETE.\n",
    "\n",
    "\n",
    "1.INSERT: Used to add new records to a table.\n",
    "    INSERT INTO Employees (ID, Name, Age, Department) VALUES (1, 'John Doe', 30, 'HR');\n",
    "    \n",
    "\n",
    "2.UPDATE: Used to modify existing records in a table.\n",
    "    UPDATE Employees SET Age = 31 WHERE ID = 1;\n",
    "\n",
    "3.DELETE: Used to remove existing records from a table.\n",
    "    DELETE FROM Employees WHERE ID = 1;\n"
   ]
  },
  {
   "cell_type": "markdown",
   "id": "bf4bf432",
   "metadata": {},
   "source": [
    "# Q4. What is DQL? Explain SELECT with an example."
   ]
  },
  {
   "cell_type": "raw",
   "id": "bcef35dc",
   "metadata": {},
   "source": [
    "What is DQL?\n",
    "\n",
    "DQL (Data Query Language) is used to query the database and fetch data. \n",
    "The primary command is SELECT.\n",
    "\n",
    "SELECT: Used to retrieve data from the database.\n",
    "    SELECT * FROM Employees WHERE Department = 'HR';\n",
    "\n"
   ]
  },
  {
   "cell_type": "markdown",
   "id": "9c2e8db6",
   "metadata": {},
   "source": [
    "# Q5. Explain Primary Key and Foreign Key."
   ]
  },
  {
   "cell_type": "raw",
   "id": "d105a64b",
   "metadata": {},
   "source": [
    "Primary Key: A field (or combination of fields) that uniquely identifies each record in a table. \n",
    "It cannot be NULL.\n",
    "\n",
    "CREATE TABLE Employees (\n",
    "    ID INT PRIMARY KEY,\n",
    "    Name VARCHAR(100)\n",
    ");\n",
    "\n",
    "\n",
    "\n",
    "\n",
    "Foreign Key: A field (or combination of fields) that links to the primary key in another table. \n",
    "    It ensures referential integrity.\n",
    "    \n",
    "    CREATE TABLE Orders (\n",
    "    OrderID INT PRIMARY KEY,\n",
    "    EmployeeID INT,\n",
    "    FOREIGN KEY (EmployeeID) REFERENCES Employees(ID)\n",
    ");\n"
   ]
  },
  {
   "cell_type": "markdown",
   "id": "dfdad550",
   "metadata": {},
   "source": [
    "# Q6. Write a Python code to connect MySQL to Python. Explain the cursor() and execute() method."
   ]
  },
  {
   "cell_type": "code",
   "execution_count": null,
   "id": "5d58fe32",
   "metadata": {},
   "outputs": [],
   "source": [
    "\n",
    "\n",
    "import mysql.connector \n",
    "\n",
    "\n",
    "# establishing the connection \n",
    "\n",
    "mydb=mysql.connector.connect(\n",
    "host =\"localhost\" ,\n",
    "user=\"username\" , \n",
    "password=\"password\" , \n",
    "database=\"databasename\"\n",
    ")\n",
    "\n",
    "\n",
    "# creating a cursor object \n",
    "\n",
    "mycursor=mydb.cursor()\n",
    "\n",
    "\n",
    "# executing a sql query \n",
    "\n",
    "mycursor.execute(\"select * from table_name\")\n",
    "\n",
    "\n",
    "# fetching the results \n",
    "\n",
    "result = mycursor.fetchall()\n",
    "\n",
    "# printing the results \n",
    "\n",
    "\n",
    "for row in result :\n",
    "    print(row)"
   ]
  },
  {
   "cell_type": "markdown",
   "id": "19b043c0",
   "metadata": {},
   "source": [
    "# Q7. Give the order of execution of SQL clauses in an SQL query."
   ]
  },
  {
   "cell_type": "raw",
   "id": "bbd25df2",
   "metadata": {},
   "source": [
    "1.FROM\n",
    "2.JOIN\n",
    "3.WHERE\n",
    "4.GROUP BY\n",
    "5.HAVING\n",
    "6.SELECT\n",
    "7.DISTINCT\n",
    "8.ORDER BY\n",
    "9.JOIN"
   ]
  }
 ],
 "metadata": {
  "kernelspec": {
   "display_name": "Python 3 (ipykernel)",
   "language": "python",
   "name": "python3"
  },
  "language_info": {
   "codemirror_mode": {
    "name": "ipython",
    "version": 3
   },
   "file_extension": ".py",
   "mimetype": "text/x-python",
   "name": "python",
   "nbconvert_exporter": "python",
   "pygments_lexer": "ipython3",
   "version": "3.10.9"
  }
 },
 "nbformat": 4,
 "nbformat_minor": 5
}
