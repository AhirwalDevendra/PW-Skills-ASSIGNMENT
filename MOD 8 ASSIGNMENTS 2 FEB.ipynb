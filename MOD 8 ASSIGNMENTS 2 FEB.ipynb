{
 "cells": [
  {
   "cell_type": "raw",
   "id": "046e7aa0",
   "metadata": {},
   "source": [
    "\n",
    "Q1. Explain when to use a for loop and a while loop with examples:"
   ]
  },
  {
   "cell_type": "code",
   "execution_count": 2,
   "id": "50af0484",
   "metadata": {},
   "outputs": [
    {
     "name": "stdout",
     "output_type": "stream",
     "text": [
      "1\n",
      "2\n",
      "3\n",
      "4\n",
      "5\n",
      "1\n",
      "2\n",
      "3\n",
      "4\n",
      "5\n"
     ]
    }
   ],
   "source": [
    "\n",
    "# For loop: Use a for loop when you know the number of iterations or \n",
    "#     when you want to iterate over a sequence (like a list or range).\n",
    "\n",
    "# Example:\n",
    "\n",
    "\n",
    "# Printing numbers from 1 to 5 using a for loop\n",
    "for i in range(1, 6):\n",
    "    print(i)\n",
    "    \n",
    "# While loop: Use a while loop when you want to repeat a block of code as long as a condition is true, \n",
    "#     and the number of iterations is not predetermined.\n",
    "\n",
    "# Example:\n",
    "\n",
    "\n",
    "# Printing numbers from 1 to 5 using a while loop\n",
    "i = 1\n",
    "while i <= 5:\n",
    "    print(i)\n",
    "    i += 1"
   ]
  },
  {
   "cell_type": "raw",
   "id": "f42dd473",
   "metadata": {},
   "source": [
    "Q2. Python program to print the sum and product of the first 10 natural numbers using for and while loop:"
   ]
  },
  {
   "cell_type": "code",
   "execution_count": null,
   "id": "cee21012",
   "metadata": {},
   "outputs": [],
   "source": [
    "# Using for loop\n",
    "sum_n = 0\n",
    "product_n = 1\n",
    "\n",
    "for num in range(1, 11):\n",
    "    sum_n += num\n",
    "    product_n *= num\n",
    "\n",
    "print(\"Sum of the first 10 natural numbers:\", sum_n)\n",
    "print(\"Product of the first 10 natural numbers:\", product_n)\n",
    "\n",
    "\n",
    "# Using while loop\n",
    "sum_n = 0\n",
    "product_n = 1\n",
    "num = 1\n",
    "\n",
    "while num <= 10:\n",
    "    sum_n += num\n",
    "    product_n *= num\n",
    "    num += 1\n",
    "\n",
    "print(\"Sum of the first 10 natural numbers:\", sum_n)\n",
    "print(\"Product of the first 10 natural numbers:\", product_n)\n"
   ]
  },
  {
   "cell_type": "raw",
   "id": "394497af",
   "metadata": {},
   "source": [
    "Q3. Python program to compute the electricity bill for a household:"
   ]
  },
  {
   "cell_type": "code",
   "execution_count": 5,
   "id": "e90e4dad",
   "metadata": {},
   "outputs": [
    {
     "name": "stdout",
     "output_type": "stream",
     "text": [
      "Enter the units of electricity consumed: 45\n",
      "Electricity bill for 45 units: Rs. 202.50\n"
     ]
    }
   ],
   "source": [
    "units = int(input(\"Enter the units of electricity consumed: \"))\n",
    "\n",
    "total_bill = 0\n",
    "\n",
    "if units <= 100:\n",
    "    total_bill = units * 4.5\n",
    "elif units <= 200:\n",
    "    total_bill = 100 * 4.5 + (units - 100) * 6\n",
    "elif units <= 300:\n",
    "    total_bill = 100 * 4.5 + 100 * 6 + (units - 200) * 10\n",
    "else:\n",
    "    total_bill = 100 * 4.5 + 100 * 6 + 100 * 10 + (units - 300) * 20\n",
    "\n",
    "print(\"Electricity bill for {} units: Rs. {:.2f}\".format(units, total_bill))\n"
   ]
  },
  {
   "cell_type": "raw",
   "id": "14822b24",
   "metadata": {},
   "source": [
    "Q4. Python program to calculate cubes and filter based on divisibility:\n",
    "\n"
   ]
  },
  {
   "cell_type": "code",
   "execution_count": 4,
   "id": "8aa6f804",
   "metadata": {},
   "outputs": [
    {
     "name": "stdout",
     "output_type": "stream",
     "text": [
      "Numbers whose cube is divisible by 4 or 5: [2, 4, 5, 6, 8, 10, 12, 14, 15, 16, 18, 20, 22, 24, 25, 26, 28, 30, 32, 34, 35, 36, 38, 40, 42, 44, 45, 46, 48, 50, 52, 54, 55, 56, 58, 60, 62, 64, 65, 66, 68, 70, 72, 74, 75, 76, 78, 80, 82, 84, 85, 86, 88, 90, 92, 94, 95, 96, 98, 100]\n"
     ]
    }
   ],
   "source": [
    "cubes_divisible = []\n",
    "\n",
    "for num in range(1, 101):\n",
    "    cube = num ** 3\n",
    "    if cube % 4 == 0 or cube % 5 == 0:\n",
    "        cubes_divisible.append(num)\n",
    "\n",
    "print(\"Numbers whose cube is divisible by 4 or 5:\", cubes_divisible)\n"
   ]
  },
  {
   "cell_type": "raw",
   "id": "91e22433",
   "metadata": {},
   "source": [
    "Q5. Python program to count vowels in a string:\n"
   ]
  },
  {
   "cell_type": "code",
   "execution_count": 3,
   "id": "2c6dacfa",
   "metadata": {},
   "outputs": [
    {
     "name": "stdout",
     "output_type": "stream",
     "text": [
      "Number of vowels: 12\n"
     ]
    }
   ],
   "source": [
    "string = \"I want to become a data scientist\"\n",
    "vowels = 'aeiouAEIOU'\n",
    "vowel_count = 0\n",
    "\n",
    "for char in string:\n",
    "    if char in vowels:\n",
    "        vowel_count += 1\n",
    "\n",
    "print(\"Number of vowels:\", vowel_count)\n"
   ]
  },
  {
   "cell_type": "code",
   "execution_count": null,
   "id": "52538464",
   "metadata": {},
   "outputs": [],
   "source": []
  },
  {
   "cell_type": "code",
   "execution_count": null,
   "id": "050200da",
   "metadata": {},
   "outputs": [],
   "source": []
  }
 ],
 "metadata": {
  "kernelspec": {
   "display_name": "Python 3 (ipykernel)",
   "language": "python",
   "name": "python3"
  },
  "language_info": {
   "codemirror_mode": {
    "name": "ipython",
    "version": 3
   },
   "file_extension": ".py",
   "mimetype": "text/x-python",
   "name": "python",
   "nbconvert_exporter": "python",
   "pygments_lexer": "ipython3",
   "version": "3.10.9"
  }
 },
 "nbformat": 4,
 "nbformat_minor": 5
}
