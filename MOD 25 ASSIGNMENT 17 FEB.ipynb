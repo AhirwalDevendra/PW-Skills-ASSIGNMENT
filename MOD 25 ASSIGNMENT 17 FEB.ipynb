{
 "cells": [
  {
   "cell_type": "markdown",
   "id": "abee5021",
   "metadata": {},
   "source": [
    "# Q1. What is MongoDB? Explain non-relational databases in short. In which scenarios is it preferred to use MongoDB over SQL databases?"
   ]
  },
  {
   "cell_type": "raw",
   "id": "c91a38cd",
   "metadata": {},
   "source": [
    "# What is MongoDB?\n",
    "    \n",
    "    MongoDB is a popular, open-source NoSQL database that uses a document-oriented data model.\n",
    "    It stores data in flexible, JSON-like documents, which means fields can vary from document to document and \n",
    "    data structure can be changed over time without affecting existing documents.\n",
    "    \n",
    "Non-relational Databases:\n",
    "    \n",
    "Non-relational databases, also known as NoSQL databases, are designed to handle a wide variety of data models. \n",
    "They do not use the tabular schema of rows and columns found in most traditional relational databases. \n",
    "Instead, they use a variety of data models, including :\n",
    "    Document: Data is stored in documents (e.g., JSON, BSON).\n",
    "    Key-Value: Data is stored as a key-value pair.\n",
    "    Column-Family: Data is stored in columns rather than rows. \n",
    "    Graph: Data is stored in nodes, edges, and properties to represent and store relationships. \n",
    "    \n",
    "\n",
    "In which scenarios is it preferred to use MongoDB over SQL databases?  \n",
    "\n",
    "1.Dynamic Schema Requirements:\n",
    "\n",
    "When your application requires a dynamic schema where the structure of data can change over time without needing a complex\n",
    "migration process.\n",
    "\n",
    "\n",
    "2.Big Data Applications:\n",
    "\n",
    "When dealing with large volumes of unstructured or semi-structured data, such as logs, social media feeds, or IoT data.\n",
    "\n",
    "3.High Write Throughput:\n",
    "\n",
    "Applications that require high write throughput and need to scale horizontally. MongoDB can distribute data across multiple \n",
    "servers and balance load efficiently.\n",
    "\n",
    "4.Geographically Distributed Data:\n",
    "\n",
    "When your application needs to serve users across different geographic locations and you need data replication and distribution.\n",
    "\n",
    "5.Rapid Prototyping and Agile Development:\n",
    "\n",
    "When you are developing applications rapidly and require flexibility in how data is stored and accessed. \n",
    "MongoDB's document model aligns well with the agile development process.\n",
    "\n",
    "6.Complex Hierarchical Data Structures:\n",
    "\n",
    "Applications that require complex hierarchical data structures, such as nested documents, can benefit from MongoDB's ability\n",
    "to store related data together in a single document.\n",
    "\n",
    "7.Content Management Systems:\n",
    "\n",
    "Ideal for content management systems, real-time analytics, and applications where data structures are evolving.\n",
    "\n",
    "\n",
    "    "
   ]
  },
  {
   "cell_type": "markdown",
   "id": "e4275ec7",
   "metadata": {},
   "source": [
    "# Q2. State and Explain the features of MongoDB."
   ]
  },
  {
   "cell_type": "raw",
   "id": "fb393698",
   "metadata": {},
   "source": [
    "MongoDB is a leading NoSQL database due to its rich set of features that provide \n",
    "flexibility, scalability, and ease of use. \n",
    "\n",
    "1.Document-Oriented Storage:\n",
    "\n",
    "MongoDB stores data in BSON (Binary JSON) format, allowing for embedded documents and arrays.\n",
    "This makes it easy to model hierarchical relationships and complex data structures.\n",
    "\n",
    "2.Flexible Schema:\n",
    "\n",
    "MongoDB allows for dynamic schema design. Unlike traditional SQL databases, MongoDB does not require a predefined schema. \n",
    "Fields can be added or removed as needed, making it easier to adapt to changing requirements.\n",
    "\n",
    "3.Scalability and High Performance:\n",
    "\n",
    "MongoDB supports horizontal scaling through sharding, distributing data across multiple servers to ensure high availability \n",
    "and performance.\n",
    "MongoDB can handle large amounts of data and high throughput operations efficiently.\n",
    "\n",
    "4.Indexing:\n",
    "\n",
    "MongoDB supports various types of indexes, including single field, compound, geospatial, text, and hashed indexes. \n",
    "\n",
    "Indexes improve the performance of search operations.\n",
    "\n",
    "5.Aggregation Framework:\n",
    "\n",
    "MongoDB provides a powerful aggregation framework for data processing and transformation.\n",
    "It supports operations like filtering, grouping, sorting, and reshaping data.\n",
    "\n",
    "6.Replication:\n",
    "\n",
    "MongoDB supports replication through replica sets, which provide redundancy and high availability. \n",
    "A replica set is a group of MongoDB instances that maintain the same data set.\n",
    "If the primary server fails, an automatic failover mechanism ensures that one of the secondary servers \n",
    "becomes the new primary.\n",
    "\n",
    "\n",
    "7.Load Balancing:\n",
    "\n",
    "MongoDB distributes the workload across multiple servers, ensuring balanced resource utilization and high availability.\n",
    "\n",
    "8.Ad Hoc Queries:\n",
    "\n",
    "MongoDB supports ad hoc queries, allowing you to search by field, range, and regular expression. Queries can return specific\n",
    "fields and include user-defined JavaScript functions.\n",
    "\n",
    "9.Geospatial Support:\n",
    "\n",
    "MongoDB has robust geospatial capabilities, allowing you to store and query geospatial data, \n",
    "including points, lines, and polygons.\n",
    "\n",
    "10.File Storage:\n",
    "\n",
    "MongoDB provides GridFS, a specification for storing and retrieving large files, such as images, videos, and other binary data.\n",
    "\n",
    "11.Transactions:\n",
    "\n",
    "MongoDB supports multi-document ACID transactions, allowing for complex operations to be executed reliably."
   ]
  },
  {
   "cell_type": "markdown",
   "id": "5989b3c9",
   "metadata": {},
   "source": [
    "# Q3. Write a code to connect MongoDB to Python. Also, create a database and a collection in MongoDB."
   ]
  },
  {
   "cell_type": "code",
   "execution_count": 7,
   "id": "18e7594a",
   "metadata": {},
   "outputs": [
    {
     "name": "stdout",
     "output_type": "stream",
     "text": [
      "Collecting pymongo\n",
      "  Downloading pymongo-4.8.0-cp310-cp310-win_amd64.whl (582 kB)\n",
      "     -------------------------------------- 582.0/582.0 kB 1.2 MB/s eta 0:00:00\n",
      "Collecting dnspython<3.0.0,>=1.16.0\n",
      "  Downloading dnspython-2.6.1-py3-none-any.whl (307 kB)\n",
      "     -------------------------------------- 307.7/307.7 kB 1.0 MB/s eta 0:00:00\n",
      "Installing collected packages: dnspython, pymongo\n",
      "Successfully installed dnspython-2.6.1 pymongo-4.8.0\n",
      "Note: you may need to restart the kernel to use updated packages.\n"
     ]
    }
   ],
   "source": [
    "pip install pymongo"
   ]
  },
  {
   "cell_type": "code",
   "execution_count": 8,
   "id": "b87605d7",
   "metadata": {},
   "outputs": [],
   "source": [
    "import pymongo"
   ]
  },
  {
   "cell_type": "code",
   "execution_count": 14,
   "id": "b5ecc10a",
   "metadata": {},
   "outputs": [
    {
     "name": "stdout",
     "output_type": "stream",
     "text": [
      "Requirement already satisfied: pymongo in c:\\users\\deven\\anaconda3\\lib\\site-packages (4.8.0)\n",
      "Requirement already satisfied: dnspython<3.0.0,>=1.16.0 in c:\\users\\deven\\anaconda3\\lib\\site-packages (from pymongo) (2.6.1)\n",
      "Note: you may need to restart the kernel to use updated packages.\n"
     ]
    }
   ],
   "source": [
    "pip install --upgrade pymongo\n"
   ]
  },
  {
   "cell_type": "code",
   "execution_count": 23,
   "id": "70d768d5",
   "metadata": {},
   "outputs": [
    {
     "name": "stdout",
     "output_type": "stream",
     "text": [
      "Database and collection created successfully, and document inserted.\n"
     ]
    }
   ],
   "source": [
    "import pymongo\n",
    "from pymongo import MongoClient\n",
    "from urllib.parse import quote_plus\n",
    "\n",
    "# MongoDB Atlas credentials\n",
    "username = \"devendra95\"\n",
    "password = \"Dev@1234\"\n",
    "cluster_name = \"cluster0\"\n",
    "cluster_url = f\"{username}:{quote_plus(password)}@{cluster_name}.o8deryn.mongodb.net\"\n",
    "\n",
    "# Connection string to MongoDB Atlas\n",
    "client = pymongo.MongoClient(f\"mongodb+srv://{cluster_url}/?retryWrites=true&w=majority&appName=Cluster0\")\n",
    "\n",
    "# Create a database named 'pwskills1'\n",
    "db = client[\"pwskills1\"]\n",
    "\n",
    "# Create a collection named 'collection1'\n",
    "collection = db[\"collection1\"]\n",
    "\n",
    "# Insert a document into the collection to verify the connection\n",
    "sample_document = {\n",
    "    \"name\": \"Dev ahirwal\",\n",
    "    \"email\": \"dev.ahir@gmail.com\"\n",
    "}\n",
    "\n",
    "# Insert the sample document into the collection\n",
    "collection.insert_one(sample_document)\n",
    "\n",
    "print(\"Database and collection created successfully, and document inserted.\")\n"
   ]
  },
  {
   "cell_type": "markdown",
   "id": "add7cc0c",
   "metadata": {},
   "source": [
    "# Q4. Using the database and the collection created in question number 3, write a code to insert one record,and insert many records. Use the find() and find_one() methods to print the inserted record."
   ]
  },
  {
   "cell_type": "code",
   "execution_count": 24,
   "id": "7bee6d1d",
   "metadata": {},
   "outputs": [],
   "source": [
    "\n",
    "data1={\"mail_id\" : \"sudh@gmail.com\" ,\n",
    "       \"phone_number\" : 2893829282282922\n",
    "    \n",
    "}"
   ]
  },
  {
   "cell_type": "code",
   "execution_count": 25,
   "id": "2a6143fb",
   "metadata": {},
   "outputs": [
    {
     "data": {
      "text/plain": [
       "InsertOneResult(ObjectId('668546b3a18efaccce12f4e4'), acknowledged=True)"
      ]
     },
     "execution_count": 25,
     "metadata": {},
     "output_type": "execute_result"
    }
   ],
   "source": [
    "collection.insert_one(data1)"
   ]
  },
  {
   "cell_type": "code",
   "execution_count": 26,
   "id": "c766d31a",
   "metadata": {},
   "outputs": [],
   "source": [
    "data2 = [\n",
    "  { \"name\": \"Amy\", \"address\": \"Apple st 652\" },\n",
    "  { \"name\": \"Hannah\", \"address\": \"Mountain 21\" },\n",
    "  { \"name\": \"Michael\", \"address\": \"Valley 345\" },\n",
    "  { \"name\": \"Sandy\", \"address\": \"Ocean blvd 2\" },\n",
    "  { \"name\": \"Betty\", \"address\": \"Green Grass 1\" },\n",
    "  { \"name\": \"Richard\", \"address\": \"Sky st 331\" },\n",
    "  { \"name\": \"Susan\", \"address\": \"One way 98\" },\n",
    "  { \"name\": \"Vicky\", \"address\": \"Yellow Garden 2\" },\n",
    "  { \"name\": \"Ben\", \"address\": \"Park Lane 38\" },\n",
    "  { \"name\": \"William\", \"address\": \"Central st 954\" },\n",
    "  { \"name\": \"Chuck\", \"address\": \"Main Road 989\" },\n",
    "  { \"name\": \"Viola\", \"address\": \"Sideway 1633\" }\n",
    "]\n"
   ]
  },
  {
   "cell_type": "code",
   "execution_count": 28,
   "id": "45eee8a8",
   "metadata": {},
   "outputs": [
    {
     "data": {
      "text/plain": [
       "InsertManyResult([ObjectId('668546f4a18efaccce12f4e5'), ObjectId('668546f4a18efaccce12f4e6'), ObjectId('668546f4a18efaccce12f4e7'), ObjectId('668546f4a18efaccce12f4e8'), ObjectId('668546f4a18efaccce12f4e9'), ObjectId('668546f4a18efaccce12f4ea'), ObjectId('668546f4a18efaccce12f4eb'), ObjectId('668546f4a18efaccce12f4ec'), ObjectId('668546f4a18efaccce12f4ed'), ObjectId('668546f4a18efaccce12f4ee'), ObjectId('668546f4a18efaccce12f4ef'), ObjectId('668546f4a18efaccce12f4f0')], acknowledged=True)"
      ]
     },
     "execution_count": 28,
     "metadata": {},
     "output_type": "execute_result"
    }
   ],
   "source": [
    "\n",
    "collection.insert_many(data2)"
   ]
  },
  {
   "cell_type": "code",
   "execution_count": 29,
   "id": "0470885b",
   "metadata": {},
   "outputs": [],
   "source": [
    "random_data = [\n",
    "    {'_id': '3', 'companyName': 'iNeuron', 'Faculty': 'XYZ'},\n",
    "    {'_id': '4', 'companyName': 'iNeuron', 'Faculty': 'ABC'},\n",
    "    {'_id': '5', 'companyName': 'iNeuron', 'Faculty': 'PQR'},\n",
    "]"
   ]
  },
  {
   "cell_type": "code",
   "execution_count": 30,
   "id": "9214ba68",
   "metadata": {},
   "outputs": [
    {
     "data": {
      "text/plain": [
       "InsertManyResult(['3', '4', '5'], acknowledged=True)"
      ]
     },
     "execution_count": 30,
     "metadata": {},
     "output_type": "execute_result"
    }
   ],
   "source": [
    "\n",
    "collection.insert_many(random_data)"
   ]
  },
  {
   "cell_type": "code",
   "execution_count": 31,
   "id": "9f9bd38f",
   "metadata": {},
   "outputs": [
    {
     "name": "stdout",
     "output_type": "stream",
     "text": [
      "{'_id': ObjectId('6685460ea18efaccce12f4e3'), 'name': 'Dev ahirwal', 'email': 'dev.ahir@gmail.com'}\n",
      "{'_id': ObjectId('668546b3a18efaccce12f4e4'), 'mail_id': 'sudh@gmail.com', 'phone_number': 2893829282282922}\n",
      "{'_id': ObjectId('668546f4a18efaccce12f4e5'), 'name': 'Amy', 'address': 'Apple st 652'}\n",
      "{'_id': ObjectId('668546f4a18efaccce12f4e6'), 'name': 'Hannah', 'address': 'Mountain 21'}\n",
      "{'_id': ObjectId('668546f4a18efaccce12f4e7'), 'name': 'Michael', 'address': 'Valley 345'}\n",
      "{'_id': ObjectId('668546f4a18efaccce12f4e8'), 'name': 'Sandy', 'address': 'Ocean blvd 2'}\n",
      "{'_id': ObjectId('668546f4a18efaccce12f4e9'), 'name': 'Betty', 'address': 'Green Grass 1'}\n",
      "{'_id': ObjectId('668546f4a18efaccce12f4ea'), 'name': 'Richard', 'address': 'Sky st 331'}\n",
      "{'_id': ObjectId('668546f4a18efaccce12f4eb'), 'name': 'Susan', 'address': 'One way 98'}\n",
      "{'_id': ObjectId('668546f4a18efaccce12f4ec'), 'name': 'Vicky', 'address': 'Yellow Garden 2'}\n",
      "{'_id': ObjectId('668546f4a18efaccce12f4ed'), 'name': 'Ben', 'address': 'Park Lane 38'}\n",
      "{'_id': ObjectId('668546f4a18efaccce12f4ee'), 'name': 'William', 'address': 'Central st 954'}\n",
      "{'_id': ObjectId('668546f4a18efaccce12f4ef'), 'name': 'Chuck', 'address': 'Main Road 989'}\n",
      "{'_id': ObjectId('668546f4a18efaccce12f4f0'), 'name': 'Viola', 'address': 'Sideway 1633'}\n",
      "{'_id': '3', 'companyName': 'iNeuron', 'Faculty': 'XYZ'}\n",
      "{'_id': '4', 'companyName': 'iNeuron', 'Faculty': 'ABC'}\n",
      "{'_id': '5', 'companyName': 'iNeuron', 'Faculty': 'PQR'}\n"
     ]
    }
   ],
   "source": [
    "for i in collection.find():\n",
    "    print(i)"
   ]
  },
  {
   "cell_type": "code",
   "execution_count": 32,
   "id": "87e0488f",
   "metadata": {},
   "outputs": [
    {
     "name": "stdout",
     "output_type": "stream",
     "text": [
      "_id\n",
      "name\n",
      "email\n"
     ]
    }
   ],
   "source": [
    "for i in collection.find_one():\n",
    "    print(i)\n"
   ]
  },
  {
   "cell_type": "markdown",
   "id": "6429aeaa",
   "metadata": {},
   "source": [
    "# Q5. Explain how you can use the find() method to query the MongoDB database. Write a simple code to demonstrate this."
   ]
  },
  {
   "cell_type": "code",
   "execution_count": 34,
   "id": "e443e7ba",
   "metadata": {},
   "outputs": [
    {
     "name": "stdout",
     "output_type": "stream",
     "text": [
      "{'_id': '3', 'companyName': 'iNeuron', 'Faculty': 'XYZ'}\n",
      "{'_id': '4', 'companyName': 'iNeuron', 'Faculty': 'ABC'}\n",
      "{'_id': '5', 'companyName': 'iNeuron', 'Faculty': 'PQR'}\n"
     ]
    }
   ],
   "source": [
    "# Example: Finding _id>=3 in collection created in question 4\n",
    "    \n",
    "for i in collection.find({'_id':{'$gte':'3'}}):\n",
    "    print(i)"
   ]
  },
  {
   "cell_type": "markdown",
   "id": "65bf12d6",
   "metadata": {},
   "source": [
    "# Q6. Explain the sort() method. Give an example to demonstrate sorting in MongoDB."
   ]
  },
  {
   "cell_type": "raw",
   "id": "790dc2fb",
   "metadata": {},
   "source": [
    "In MongoDB, the sort() method is used to sort the documents returned by a query based on one or more fields. \n",
    "This method allows you to specify the sorting order (ascending or descending) for each field individually.\n",
    "\n"
   ]
  },
  {
   "cell_type": "code",
   "execution_count": 35,
   "id": "6884fe32",
   "metadata": {},
   "outputs": [
    {
     "name": "stdout",
     "output_type": "stream",
     "text": [
      "{'_id': ObjectId('668546f4a18efaccce12f4ee'), 'name': 'William', 'address': 'Central st 954'}\n",
      "{'_id': ObjectId('668546f4a18efaccce12f4f0'), 'name': 'Viola', 'address': 'Sideway 1633'}\n",
      "{'_id': ObjectId('668546f4a18efaccce12f4ec'), 'name': 'Vicky', 'address': 'Yellow Garden 2'}\n",
      "{'_id': ObjectId('668546f4a18efaccce12f4eb'), 'name': 'Susan', 'address': 'One way 98'}\n",
      "{'_id': ObjectId('668546f4a18efaccce12f4e8'), 'name': 'Sandy', 'address': 'Ocean blvd 2'}\n",
      "{'_id': ObjectId('668546f4a18efaccce12f4ea'), 'name': 'Richard', 'address': 'Sky st 331'}\n",
      "{'_id': ObjectId('668546f4a18efaccce12f4e7'), 'name': 'Michael', 'address': 'Valley 345'}\n",
      "{'_id': ObjectId('668546f4a18efaccce12f4e6'), 'name': 'Hannah', 'address': 'Mountain 21'}\n",
      "{'_id': ObjectId('6685460ea18efaccce12f4e3'), 'name': 'Dev ahirwal', 'email': 'dev.ahir@gmail.com'}\n",
      "{'_id': ObjectId('668546f4a18efaccce12f4ef'), 'name': 'Chuck', 'address': 'Main Road 989'}\n",
      "{'_id': ObjectId('668546f4a18efaccce12f4e9'), 'name': 'Betty', 'address': 'Green Grass 1'}\n",
      "{'_id': ObjectId('668546f4a18efaccce12f4ed'), 'name': 'Ben', 'address': 'Park Lane 38'}\n",
      "{'_id': ObjectId('668546f4a18efaccce12f4e5'), 'name': 'Amy', 'address': 'Apple st 652'}\n",
      "{'_id': ObjectId('668546b3a18efaccce12f4e4'), 'mail_id': 'sudh@gmail.com', 'phone_number': 2893829282282922}\n",
      "{'_id': '3', 'companyName': 'iNeuron', 'Faculty': 'XYZ'}\n",
      "{'_id': '4', 'companyName': 'iNeuron', 'Faculty': 'ABC'}\n",
      "{'_id': '5', 'companyName': 'iNeuron', 'Faculty': 'PQR'}\n"
     ]
    }
   ],
   "source": [
    "sort=collection.find().sort('name',-1)\n",
    "for i in sort :\n",
    "    print(i)"
   ]
  },
  {
   "cell_type": "markdown",
   "id": "317a4e5a",
   "metadata": {},
   "source": [
    "# Q7. Explain why delete_one(), delete_many(), and drop() is used."
   ]
  },
  {
   "cell_type": "raw",
   "id": "e103e4a5",
   "metadata": {},
   "source": [
    "# delete_one(), delete_many(), and drop() are methods used in pymongo to remove documents and collections from a MongoDB database.\n",
    "\n",
    "delete_one(filter, collation=None) deletes a single document from the specified collection that matches the given filter\n",
    "criteria.\n",
    "\n",
    "delete_many(filter, collation=None) deletes all documents from the specified collection that match the given filter criteria.\n",
    "\n",
    "drop() removes an entire collection from the database."
   ]
  },
  {
   "cell_type": "code",
   "execution_count": 36,
   "id": "6db4889e",
   "metadata": {},
   "outputs": [
    {
     "data": {
      "text/plain": [
       "DeleteResult({'n': 1, 'electionId': ObjectId('7fffffff000000000000005e'), 'opTime': {'ts': Timestamp(1720011012, 13), 't': 94}, 'ok': 1.0, '$clusterTime': {'clusterTime': Timestamp(1720011012, 13), 'signature': {'hash': b'\\xcdy\\xc0)\\xa3\\xae\\xbfH\\xc3\\xf0\\xfe\\x88\\xde\\xc0C\\x84\\xb9v\\x11\\xd7', 'keyId': 7340633600364118026}}, 'operationTime': Timestamp(1720011012, 13)}, acknowledged=True)"
      ]
     },
     "execution_count": 36,
     "metadata": {},
     "output_type": "execute_result"
    }
   ],
   "source": [
    "collection.delete_one({\"name\":\"Amy\"})"
   ]
  },
  {
   "cell_type": "code",
   "execution_count": 37,
   "id": "1809a78e",
   "metadata": {},
   "outputs": [
    {
     "data": {
      "text/plain": [
       "DeleteResult({'n': 1, 'electionId': ObjectId('7fffffff000000000000005e'), 'opTime': {'ts': Timestamp(1720011038, 4), 't': 94}, 'ok': 1.0, '$clusterTime': {'clusterTime': Timestamp(1720011038, 4), 'signature': {'hash': b'\\x80\\xedQ\\xe0\\xd6ji\\xed\\xa7\\xf0D\\xf1\\xf8C\\xf7\\x0c\\x8b\\xc6a\\x10', 'keyId': 7340633600364118026}}, 'operationTime': Timestamp(1720011038, 4)}, acknowledged=True)"
      ]
     },
     "execution_count": 37,
     "metadata": {},
     "output_type": "execute_result"
    }
   ],
   "source": [
    "collection.delete_one({'companyName':'iNeuron'})"
   ]
  },
  {
   "cell_type": "code",
   "execution_count": 38,
   "id": "f24d7db0",
   "metadata": {},
   "outputs": [
    {
     "data": {
      "text/plain": [
       "DeleteResult({'n': 2, 'electionId': ObjectId('7fffffff000000000000005e'), 'opTime': {'ts': Timestamp(1720011057, 3), 't': 94}, 'ok': 1.0, '$clusterTime': {'clusterTime': Timestamp(1720011057, 4), 'signature': {'hash': b'\\x9fic\\xc2\\xb6\\x8f\\x92\\xc9\\xbf\\xdbxYs\\x15\\xc1&n\\xdd\\xaa\\x1a', 'keyId': 7340633600364118026}}, 'operationTime': Timestamp(1720011057, 3)}, acknowledged=True)"
      ]
     },
     "execution_count": 38,
     "metadata": {},
     "output_type": "execute_result"
    }
   ],
   "source": [
    "collection.delete_many({'companyName':'iNeuron'})"
   ]
  },
  {
   "cell_type": "code",
   "execution_count": 39,
   "id": "7d9dd931",
   "metadata": {},
   "outputs": [],
   "source": [
    "collection.drop()"
   ]
  },
  {
   "cell_type": "code",
   "execution_count": null,
   "id": "3ee13cd0",
   "metadata": {},
   "outputs": [],
   "source": []
  }
 ],
 "metadata": {
  "kernelspec": {
   "display_name": "Python 3 (ipykernel)",
   "language": "python",
   "name": "python3"
  },
  "language_info": {
   "codemirror_mode": {
    "name": "ipython",
    "version": 3
   },
   "file_extension": ".py",
   "mimetype": "text/x-python",
   "name": "python",
   "nbconvert_exporter": "python",
   "pygments_lexer": "ipython3",
   "version": "3.10.9"
  }
 },
 "nbformat": 4,
 "nbformat_minor": 5
}
