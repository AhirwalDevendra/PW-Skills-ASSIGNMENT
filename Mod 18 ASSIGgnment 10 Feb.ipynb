{
 "cells": [
  {
   "cell_type": "markdown",
   "id": "6367a092",
   "metadata": {},
   "source": [
    "# Q1. Which function is used to open a file? What are the different modes of opening a file? Explain each mode of file opening."
   ]
  },
  {
   "cell_type": "raw",
   "id": "37265921",
   "metadata": {},
   "source": [
    "Different modes of opening a file:\n",
    "The mode parameter specifies the purpose for which the file is opened:\n",
    "\n",
    "1.\"r\" (read mode):\n",
    "    This mode opens a file for reading. If the file doesn't exist, it raises a FileNotFoundError.\n",
    "The file pointer is placed at the beginning of the file. This is the default mode if no mode is specified.\n"
   ]
  },
  {
   "cell_type": "code",
   "execution_count": null,
   "id": "2df96c63",
   "metadata": {},
   "outputs": [],
   "source": [
    "file=open(\"test.txt\",\"r\")\n",
    "a=file.read()\n",
    "print(a)"
   ]
  },
  {
   "cell_type": "raw",
   "id": "7dddf722",
   "metadata": {},
   "source": [
    "2.\"w\" (write mode):\n",
    "    This mode opens a file for writing. If the file exists, it truncates (i.e., clears) its contents. If it doesn't exist, it creates a new file.\n",
    "The file pointer is placed at the beginning of the file.\n",
    "Example:"
   ]
  },
  {
   "cell_type": "code",
   "execution_count": null,
   "id": "95e6f691",
   "metadata": {},
   "outputs": [],
   "source": [
    "file=open(\"test.txt\",\"w\")\n",
    "file.write(\"data science masters\\n\")\n",
    "file.close()"
   ]
  },
  {
   "cell_type": "raw",
   "id": "5671c298",
   "metadata": {},
   "source": [
    "# 3.\"a\" (append mode):\n",
    "    This mode opens a file for appending. It starts writing at the end of the file without truncating the existing file content.\n",
    "If the file doesn't exist, it creates a new file.\n",
    "Example:\n",
    "  "
   ]
  },
  {
   "cell_type": "code",
   "execution_count": null,
   "id": "35d0c904",
   "metadata": {},
   "outputs": [],
   "source": [
    "file=open(\"test.txt\",\"a\")\n",
    "file.write(\"Data science\\n\")\n",
    "file.close()\n",
    "file=open(\"test.txt\",\"r\")\n",
    "x=file.read()\n",
    "print(x)"
   ]
  },
  {
   "cell_type": "raw",
   "id": "44139d97",
   "metadata": {},
   "source": [
    "4.In the ‘r+’ mode, the file opens in the read & write mode. It does not remove existing content, if present, \n",
    "in the file and does not create a file if not present in the directory."
   ]
  },
  {
   "cell_type": "code",
   "execution_count": null,
   "id": "3d63e0b3",
   "metadata": {},
   "outputs": [],
   "source": [
    "file=open(\"test.txt\",\"r+\")\n",
    "file.write(\"pwskills\\n\")\n",
    "file.close\n",
    "\n",
    "file=open(\"test.txt\",\"r\")\n",
    "k=file.read()\n",
    "\n",
    "print(k)"
   ]
  },
  {
   "cell_type": "raw",
   "id": "4f30261c",
   "metadata": {},
   "source": [
    "5.In the ‘w+’ mode, open the file in the read & write mode & remove existing content. If the file doesn’t exist, it creates a new one. It does not remove existing content & if a file doesn’t exist, it creates a new one"
   ]
  },
  {
   "cell_type": "code",
   "execution_count": null,
   "id": "bf82f006",
   "metadata": {},
   "outputs": [],
   "source": [
    "file=open(\"test.txt\",\"w+\")\n",
    "file.write(\"python\\n\")\n",
    "file.close()\n",
    "file=open(\"test.txt\",\"r\")\n",
    "print(file.read())"
   ]
  },
  {
   "cell_type": "raw",
   "id": "5f3921f3",
   "metadata": {},
   "source": [
    "a+: Opens a file for both appending and reading"
   ]
  },
  {
   "cell_type": "code",
   "execution_count": null,
   "id": "7f3e78d3",
   "metadata": {},
   "outputs": [],
   "source": [
    "file=open(\"test.txt\",\"a+\")\n",
    "file.write(\"skills\\n\")\n",
    "file.close()\n",
    "file=open(\"test.txt\",\"a+\")\n",
    "file.seek(0)\n",
    "k=file.read()\n",
    "print(k)"
   ]
  },
  {
   "cell_type": "markdown",
   "id": "2c951c7e",
   "metadata": {},
   "source": [
    "# Q2. Why close() function is used? Why is it important to close a file?"
   ]
  },
  {
   "cell_type": "raw",
   "id": "4d3c49b2",
   "metadata": {},
   "source": [
    "The close() function in Python is used to close an opened file. It's important to close a \n",
    "file after you've finished working with it for several reasons\n",
    "\n",
    "1.Freeing Resources: opened file consumes resources of python to work efficiently it is important to close a file.\n",
    "\n",
    "2.Data Integrity:  Not closing the file properly, some data may not be written, leading to potential data loss or corruption.\n",
    "\n",
    "3.File Locking: Closing the file releases any locks associated with it, allowing other processes to work with the file.\n",
    "\n",
    "4.Operating System Limits:\n",
    "                             If your program exceeds this limit by not closing files, it may fail to open additional files or run into other unexpected errors.\n",
    "                          \n",
    "               \n",
    "\n",
    "\n",
    "              \n"
   ]
  },
  {
   "cell_type": "markdown",
   "id": "63bae98e",
   "metadata": {},
   "source": [
    "# Q6. Explain the write() and writelines() functions. Give a suitable example."
   ]
  },
  {
   "cell_type": "code",
   "execution_count": null,
   "id": "4ba65543",
   "metadata": {},
   "outputs": [],
   "source": [
    "1.write() Function\n",
    "\n",
    "The write() function is used to write a specified string or bytes object to a file. \n",
    "It does not automatically add a newline character (\\n) to the end of the string, \n",
    "so if you want to start a new line, you must explicitly include \\n.\n",
    "\n",
    "\n"
   ]
  },
  {
   "cell_type": "code",
   "execution_count": null,
   "id": "399cca48",
   "metadata": {},
   "outputs": [],
   "source": [
    "file.write(str)"
   ]
  },
  {
   "cell_type": "code",
   "execution_count": null,
   "id": "2f097ea3",
   "metadata": {},
   "outputs": [],
   "source": [
    "2.writelines() Function"
   ]
  },
  {
   "cell_type": "code",
   "execution_count": null,
   "id": "88ad0a94",
   "metadata": {},
   "outputs": [],
   "source": [
    "The writelines() function is used to write a sequence of strings (or iterable of strings) to a file. \n",
    "It does not add newline characters (\\n) automatically, so each string in the sequence must include a \n",
    "newline character if a new line is desired.\n"
   ]
  },
  {
   "cell_type": "code",
   "execution_count": 5,
   "id": "4a88827a",
   "metadata": {},
   "outputs": [],
   "source": [
    "\n",
    "lines = [\"First line\\n\", \"Second line\\n\", \"Third line\\n\"]\n",
    "with open(\"example_lines.txt\", \"w\") as file:\n",
    "    file.writelines(lines)\n"
   ]
  },
  {
   "cell_type": "code",
   "execution_count": null,
   "id": "9e288005",
   "metadata": {},
   "outputs": [],
   "source": []
  }
 ],
 "metadata": {
  "kernelspec": {
   "display_name": "Python 3 (ipykernel)",
   "language": "python",
   "name": "python3"
  },
  "language_info": {
   "codemirror_mode": {
    "name": "ipython",
    "version": 3
   },
   "file_extension": ".py",
   "mimetype": "text/x-python",
   "name": "python",
   "nbconvert_exporter": "python",
   "pygments_lexer": "ipython3",
   "version": "3.10.9"
  }
 },
 "nbformat": 4,
 "nbformat_minor": 5
}
