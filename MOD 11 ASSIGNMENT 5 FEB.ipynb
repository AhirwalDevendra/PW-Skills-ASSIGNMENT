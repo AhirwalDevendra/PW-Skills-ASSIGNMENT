{
 "cells": [
  {
   "cell_type": "markdown",
   "id": "aac37b7a",
   "metadata": {},
   "source": [
    "# Q1. Explain Class and Object with respect to Object-Oriented Programming. Give a suitable example."
   ]
  },
  {
   "cell_type": "code",
   "execution_count": 6,
   "id": "1f2713cd",
   "metadata": {},
   "outputs": [
    {
     "name": "stdout",
     "output_type": "stream",
     "text": [
      "Car: 2020 Toyota Corolla\n",
      "Car: 2019 Honda Civic\n"
     ]
    }
   ],
   "source": [
    "# Class:\n",
    "# A class in object-oriented programming is a blueprint for creating objects. It defines a set of attributes and methods that the created objects will have. Classes encapsulate data for the object and methods to manipulate that data.\n",
    "\n",
    "# Object:\n",
    "# An object is an instance of a class. It is created using the class and can access the attributes and methods defined in the class. Each object can have different values for its attributes.\n",
    "\n",
    "class Car:\n",
    "    def __init__(self, make, model, year):\n",
    "        self.make = make\n",
    "        self.model = model\n",
    "        self.year = year\n",
    "\n",
    "    def display_info(self):\n",
    "        print(f\"Car: {self.year} {self.make} {self.model}\")\n",
    "\n",
    "\n",
    "car1 = Car(\"Toyota\", \"Corolla\", 2020)\n",
    "car2 = Car(\"Honda\", \"Civic\", 2019)\n",
    "\n",
    "\n",
    "car1.display_info()\n",
    "car2.display_info()\n",
    "\n"
   ]
  },
  {
   "cell_type": "markdown",
   "id": "45cd753c",
   "metadata": {},
   "source": [
    "# Q2. Name the four pillars of OOPs."
   ]
  },
  {
   "cell_type": "raw",
   "id": "f30ad858",
   "metadata": {},
   "source": [
    "1.Encapsulation: Encapsulation is the mechanism of hiding the internal state of an object and only allowing access to \n",
    "    it through public methods. This helps in protecting the integrity of the data.\n",
    "2.Abstraction: Abstraction is the concept of hiding the complex implementation details and showing only the necessary \n",
    "    features of an object.\n",
    "3.Inheritance: Inheritance is the mechanism by which one class (child/subclass) can inherit the properties and methods of\n",
    "    another class (parent/superclass). This helps in code reusability.\n",
    "4.Polymorphism: Polymorphism allows objects to be treated as instances of their parent class rather than their actual class. \n",
    "    It enables one interface to be used for a general class of actions."
   ]
  },
  {
   "cell_type": "markdown",
   "id": "0547826c",
   "metadata": {},
   "source": [
    "# Q3. Explain why the __init__() function is used. Give a suitable example."
   ]
  },
  {
   "cell_type": "raw",
   "id": "5e150721",
   "metadata": {},
   "source": [
    "The __init__() function, also known as the constructor, is used to initialize the attributes of an object when it is created. It allows the object to be initialized with values ,\n",
    "when it is instantiated."
   ]
  },
  {
   "cell_type": "code",
   "execution_count": 7,
   "id": "8f193c19",
   "metadata": {},
   "outputs": [
    {
     "name": "stdout",
     "output_type": "stream",
     "text": [
      "Name: Alice, Age: 30\n"
     ]
    }
   ],
   "source": [
    "class Person:\n",
    "    def __init__(self, name, age):\n",
    "        self.name = name\n",
    "        self.age = age\n",
    "\n",
    "    def display_info(self):\n",
    "        print(f\"Name: {self.name}, Age: {self.age}\")\n",
    "\n",
    "person1 = Person(\"Alice\", 30)\n",
    "\n",
    "person1.display_info()\n"
   ]
  },
  {
   "cell_type": "markdown",
   "id": "e67c2bbf",
   "metadata": {},
   "source": [
    "# Q4. Why self is used in OOPs?"
   ]
  },
  {
   "cell_type": "raw",
   "id": "6235bddb",
   "metadata": {},
   "source": [
    "# The self keyword is used in object-oriented programming to refer to the instance of the class. \n",
    "It is used to access variables that belong to the class. When a method is called on an object,\n",
    "self refers to that particular object. It is necessary to use self as the first parameter in instance methods so that\n",
    "the method can access and modify the attributes of the object.\n"
   ]
  },
  {
   "cell_type": "markdown",
   "id": "d19d3d53",
   "metadata": {},
   "source": [
    "# Q5. What is inheritance? Give an example for each type of inheritance."
   ]
  },
  {
   "cell_type": "raw",
   "id": "89131544",
   "metadata": {},
   "source": [
    "inheritance is a mechanism in object-oriented programming that allows a class to inherit attributes and methods from another class. \n",
    "This promotes code reusability and establishes a relationship between the parent (base) class and child (derived) class.\n"
   ]
  },
  {
   "cell_type": "code",
   "execution_count": 8,
   "id": "879a5321",
   "metadata": {},
   "outputs": [
    {
     "name": "stdout",
     "output_type": "stream",
     "text": [
      "Animal is eating\n",
      "Dog is barking\n"
     ]
    }
   ],
   "source": [
    "# Types of Inheritance:\n",
    "\n",
    "# 1.Single Inheritance: A child class inherits from a single parent class.\n",
    "\n",
    "\n",
    "class Animal:\n",
    "    def eat(self):\n",
    "        print(\"Animal is eating\")\n",
    "\n",
    "class Dog(Animal):\n",
    "    def bark(self):\n",
    "        print(\"Dog is barking\")\n",
    "\n",
    "\n",
    "dog = Dog()\n",
    "dog.eat()\n",
    "dog.bark()"
   ]
  },
  {
   "cell_type": "code",
   "execution_count": null,
   "id": "ece5cea6",
   "metadata": {},
   "outputs": [],
   "source": []
  },
  {
   "cell_type": "code",
   "execution_count": null,
   "id": "5ece579b",
   "metadata": {},
   "outputs": [],
   "source": []
  },
  {
   "cell_type": "code",
   "execution_count": null,
   "id": "7dbb0b79",
   "metadata": {},
   "outputs": [],
   "source": []
  },
  {
   "cell_type": "code",
   "execution_count": null,
   "id": "50309f7d",
   "metadata": {},
   "outputs": [],
   "source": []
  },
  {
   "cell_type": "code",
   "execution_count": null,
   "id": "594f26ff",
   "metadata": {},
   "outputs": [],
   "source": []
  },
  {
   "cell_type": "code",
   "execution_count": 9,
   "id": "41626bca",
   "metadata": {},
   "outputs": [
    {
     "name": "stdout",
     "output_type": "stream",
     "text": [
      "Flying\n",
      "Swimming\n"
     ]
    }
   ],
   "source": [
    "# 2.Multiple Inheritance: A child class inherits from multiple parent classes.\n",
    "\n",
    "class Flyer:\n",
    "    def fly(self):\n",
    "        print(\"Flying\")\n",
    "\n",
    "class Swimmer:\n",
    "    def swim(self):\n",
    "        print(\"Swimming\")\n",
    "\n",
    "class Duck(Flyer, Swimmer):\n",
    "    pass\n",
    "\n",
    "\n",
    "duck = Duck()\n",
    "duck.fly()\n",
    "duck.swim()\n"
   ]
  },
  {
   "cell_type": "code",
   "execution_count": 10,
   "id": "7708d337",
   "metadata": {},
   "outputs": [
    {
     "name": "stdout",
     "output_type": "stream",
     "text": [
      "Moving\n",
      "Driving\n",
      "Racing\n"
     ]
    }
   ],
   "source": [
    "# 3.Multilevel Inheritance: A class inherits from another class, which in turn inherits from another class.\n",
    "\n",
    "class Vehicle:\n",
    "    def move(self):\n",
    "        print(\"Moving\")\n",
    "\n",
    "class Car(Vehicle):\n",
    "    def drive(self):\n",
    "        print(\"Driving\")\n",
    "\n",
    "class SportsCar(Car):\n",
    "    def race(self):\n",
    "        print(\"Racing\")\n",
    "\n",
    "sportscar = SportsCar()\n",
    "sportscar.move()\n",
    "sportscar.drive()\n",
    "sportscar.race()\n"
   ]
  },
  {
   "cell_type": "code",
   "execution_count": 11,
   "id": "5cdd9456",
   "metadata": {},
   "outputs": [
    {
     "name": "stdout",
     "output_type": "stream",
     "text": [
      "Drawing a shape\n",
      "Drawing a shape\n",
      "Area of Circle\n",
      "Area of Square\n"
     ]
    }
   ],
   "source": [
    "# 4.Hierarchical Inheritance: Multiple classes inherit from a single parent class\n",
    "\n",
    "class Shape:\n",
    "    def draw(self):\n",
    "        print(\"Drawing a shape\")\n",
    "\n",
    "class Circle(Shape):\n",
    "    def area(self):\n",
    "        print(\"Area of Circle\")\n",
    "\n",
    "class Square(Shape):\n",
    "    def area(self):\n",
    "        print(\"Area of Square\")\n",
    "\n",
    "\n",
    "circle = Circle()\n",
    "square = Square()\n",
    "circle.draw()\n",
    "square.draw()\n",
    "circle.area()\n",
    "square.area()\n"
   ]
  },
  {
   "cell_type": "code",
   "execution_count": 12,
   "id": "b5a09cc7",
   "metadata": {},
   "outputs": [
    {
     "name": "stdout",
     "output_type": "stream",
     "text": [
      "Method A\n",
      "Method B\n",
      "Method C\n",
      "Method D\n"
     ]
    }
   ],
   "source": [
    "# 5.Hybrid Inheritance: A combination of two or more types of inheritance.\n",
    "\n",
    "class A:\n",
    "    def method_a(self):\n",
    "        print(\"Method A\")\n",
    "\n",
    "class B(A):\n",
    "    def method_b(self):\n",
    "        print(\"Method B\")\n",
    "\n",
    "class C(A):\n",
    "    def method_c(self):\n",
    "        print(\"Method C\")\n",
    "\n",
    "class D(B, C):\n",
    "    def method_d(self):\n",
    "        print(\"Method D\")\n",
    "d = D()\n",
    "d.method_a()\n",
    "d.method_b()\n",
    "d.method_c()\n",
    "d.method_d()\n"
   ]
  },
  {
   "cell_type": "code",
   "execution_count": null,
   "id": "2a8c6e65",
   "metadata": {},
   "outputs": [],
   "source": []
  }
 ],
 "metadata": {
  "kernelspec": {
   "display_name": "Python 3 (ipykernel)",
   "language": "python",
   "name": "python3"
  },
  "language_info": {
   "codemirror_mode": {
    "name": "ipython",
    "version": 3
   },
   "file_extension": ".py",
   "mimetype": "text/x-python",
   "name": "python",
   "nbconvert_exporter": "python",
   "pygments_lexer": "ipython3",
   "version": "3.10.9"
  }
 },
 "nbformat": 4,
 "nbformat_minor": 5
}
