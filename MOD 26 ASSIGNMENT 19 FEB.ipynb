{
 "cells": [
  {
   "cell_type": "markdown",
   "id": "98f38637",
   "metadata": {},
   "source": [
    "# Q1. What is Flask Framework? What are the advantages of Flask Framework?"
   ]
  },
  {
   "cell_type": "raw",
   "id": "645eddb2",
   "metadata": {},
   "source": [
    "Flask is a micro web framework for Python that allows you to build web applications quickly and easily. \n",
    "It is lightweight and flexible, and it comes with a minimal set of tools and libraries, which allows developers to have greater\n",
    "control over their applications.\n",
    "\n",
    "Some advantages of Flask are:\n",
    "\n",
    "Simplicity: Flask has a simple and intuitive API, which makes it easy to learn and use, even for beginners.\n",
    "\n",
    "Flexibility: Flask is a lightweight framework, which means that it doesn't impose any specific coding patterns or project \n",
    "    structures. This allows developers to build applications according to their specific needs and preferences.\n",
    "\n",
    "Extensibility: Flask has a modular design, which means that developers can add or remove features as needed, using a variety of\n",
    "    third-party extensions.\n",
    "\n",
    "Scalability: Flask is designed to scale well, allowing developers to easily add more functionality as their applications grow.\n",
    "\n",
    "Testing: Flask makes it easy to write and run tests for your application, which is essential for ensuring its quality and \n",
    "    reliability.\n",
    "\n",
    "Compatibility: Flask works with a wide range of Python versions and web servers, which makes it a versatile and reliable \n",
    "    choice for web development.\n",
    "\n",
    "Overall, Flask is a great choice for building small to medium-sized web applications, due to its simplicity, flexibility, \n",
    "and extensibility."
   ]
  },
  {
   "cell_type": "markdown",
   "id": "f31607dd",
   "metadata": {},
   "source": [
    "# Q2. Create a simple Flask application to display ‘Hello World!!’. Attach the screenshot of the output in Jupyter Notebook."
   ]
  },
  {
   "cell_type": "code",
   "execution_count": null,
   "id": "e85125e9",
   "metadata": {},
   "outputs": [],
   "source": [
    "from flask import Flask\n",
    "\n",
    "app = Flask(__name__)\n",
    "\n",
    "@app.route('/')\n",
    "def hello_world():\n",
    "    return 'Hello World!!'\n",
    "\n",
    "if __name__ == '__main__':\n",
    "    app.run(debug=True)"
   ]
  },
  {
   "cell_type": "markdown",
   "id": "9706f8de",
   "metadata": {},
   "source": [
    "# Q3. What is App routing in Flask? Why do we use app routes?"
   ]
  },
  {
   "cell_type": "code",
   "execution_count": null,
   "id": "1e084ad5",
   "metadata": {},
   "outputs": [],
   "source": [
    "In Flask, app routing is the process of mapping URLs (or routes) to view functions in your Flask application. When a user visits\n",
    "a specific URL in your application, Flask will invoke the appropriate view function and generate a response to return to the\n",
    "user's browser.\n",
    "\n",
    "App routing is important in Flask because it allows you to define the structure and behavior of your web application.\n",
    "By defining routes and associated view functions, you can control what content is displayed to the user at different URLs \n",
    "in your application.\n",
    "\n",
    "App routing provides several benefits in Flask:\n",
    "\n",
    "Separation of concerns: By mapping routes to specific view functions, you can separate the logic of your application into \n",
    "    discrete, modular components. This makes your code more maintainable and easier to understand.\n",
    "\n",
    "URL handling: App routing allows you to handle URLs and their parameters in a flexible and powerful way. This makes it easy to \n",
    "    create dynamic, data-driven web applications.\n",
    "\n",
    "Customization: With app routing, you have full control over the behavior of your web application. You can customize the routing\n",
    "    behavior based on user input, session data, or any other factor you choose.\n",
    "\n",
    "Here's an example of how to define a simple app route in Flask:"
   ]
  },
  {
   "cell_type": "code",
   "execution_count": null,
   "id": "e581e13d",
   "metadata": {},
   "outputs": [],
   "source": [
    "from flask import Flask\n",
    "\n",
    "app=Flask(__name__)\n",
    "\n",
    "@app.route(\"/h\")\n",
    "def home():\n",
    "    return \"pwskills\"\n",
    "\n",
    "if __name__==\"__main__\":\n",
    "    app.run(host=\"0.0.0.0\")"
   ]
  },
  {
   "cell_type": "markdown",
   "id": "ef82922b",
   "metadata": {},
   "source": [
    "# Q4. Create a “/welcome” route to display the welcome message “Welcome to ABC Corporation” and a “/”route to show the following details:\n",
    "Company Name: ABC Corporation\n",
    "Location: India\n",
    "Contact Detail: 999-999-9999"
   ]
  },
  {
   "cell_type": "code",
   "execution_count": null,
   "id": "a7c02b6c",
   "metadata": {},
   "outputs": [],
   "source": [
    "from flask import Flask\n",
    "\n",
    "app=Flask(__name__)\n",
    "\n",
    "@app.route(\"/welcome\")\n",
    "def function1():\n",
    "    return \"Welcome to ABC Corporation\"\n",
    "\n",
    "@app.route(\"/\")\n",
    "def function2():\n",
    "        return '''\n",
    "    <h1>Company Name: ABC Corporation</h1>\n",
    "    <p>Location: India</p>\n",
    "    <p>Contact Detail: 999-999-9999</p>\n",
    "    '''\n",
    "    \n",
    "    \n",
    "    \n",
    "if __name__==\"__main__\":\n",
    "    app.run(host=\"0.0.0.0\")"
   ]
  },
  {
   "cell_type": "markdown",
   "id": "21639b49",
   "metadata": {},
   "source": [
    "# Q5. What function is used in Flask for URL Building? Write a Python code to demonstrate the working of the url_for() function."
   ]
  },
  {
   "cell_type": "markdown",
   "id": "034b4147",
   "metadata": {},
   "source": [
    "The url_for() function is used in Flask for URL building. It generates a URL to a specific function based on the provided endpoint and any arguments passed to it.\n",
    "\n",
    "Here is an example Python code to demonstrate the working of the url_for() function in Flask:"
   ]
  },
  {
   "cell_type": "code",
   "execution_count": 6,
   "id": "ca66361a",
   "metadata": {},
   "outputs": [
    {
     "name": "stdout",
     "output_type": "stream",
     "text": [
      "/\n",
      "/user/Devendra\n"
     ]
    }
   ],
   "source": [
    "from flask import Flask , url_for\n",
    "\n",
    "app=Flask(__name__)\n",
    "\n",
    "@app.route(\"/\")\n",
    "def home():\n",
    "    return \"data science masters\"\n",
    "\n",
    "@app.route(\"/user/<name>\")\n",
    "def user(name):\n",
    "    return f\"Hello , {name}!\"\n",
    "\n",
    "\n",
    "if __name__==\"__main__\":\n",
    "    with app.test_request_context():\n",
    "        print(url_for(\"home\"))\n",
    "        print(url_for(\"user\",name='Devendra'))"
   ]
  },
  {
   "cell_type": "code",
   "execution_count": null,
   "id": "9a03b7ee",
   "metadata": {},
   "outputs": [],
   "source": []
  }
 ],
 "metadata": {
  "kernelspec": {
   "display_name": "Python 3 (ipykernel)",
   "language": "python",
   "name": "python3"
  },
  "language_info": {
   "codemirror_mode": {
    "name": "ipython",
    "version": 3
   },
   "file_extension": ".py",
   "mimetype": "text/x-python",
   "name": "python",
   "nbconvert_exporter": "python",
   "pygments_lexer": "ipython3",
   "version": "3.10.9"
  }
 },
 "nbformat": 4,
 "nbformat_minor": 5
}
