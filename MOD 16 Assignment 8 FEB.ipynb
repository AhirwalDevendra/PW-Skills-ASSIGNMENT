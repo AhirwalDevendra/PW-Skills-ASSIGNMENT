{
 "cells": [
  {
   "cell_type": "raw",
   "id": "807891e7",
   "metadata": {},
   "source": [
    "Q1. What is Abstraction in OOps? Explain with an example."
   ]
  },
  {
   "cell_type": "code",
   "execution_count": 3,
   "id": "0d1c29d2",
   "metadata": {},
   "outputs": [
    {
     "name": "stdout",
     "output_type": "stream",
     "text": [
      "Hello, my name is Dev.\n",
      "Hello, my name is Ved.\n"
     ]
    }
   ],
   "source": [
    "# Abstraction in object-oriented programming (OOP) is the concept of hiding the complex implementation details of a class and \n",
    "# exposing only the essential features to the user. It focuses on what an object does rather than how it does it.\n",
    "\n",
    "\n",
    "class Person:\n",
    "    def __init__(self, name, age):\n",
    "        self.name = name\n",
    "        self.age = age\n",
    "    \n",
    "    def greet(self):\n",
    "        print(f\"Hello, my name is {self.name}.\")\n",
    "\n",
    "person1 = Person(\"Dev\", 30)\n",
    "person2 = Person(\"Ved\", 25)\n",
    "\n",
    "person1.greet()\n",
    "person2.greet()\n"
   ]
  },
  {
   "cell_type": "raw",
   "id": "6fcd0e84",
   "metadata": {},
   "source": [
    "Q2. Differentiate between Abstraction and Encapsulation. Explain with an example."
   ]
  },
  {
   "cell_type": "raw",
   "id": "bd99e856",
   "metadata": {},
   "source": [
    "Difference:\n",
    "\n",
    "1.Abstraction focuses on hiding unnecessary details and showing only the relevant parts to the user or outside world, \n",
    "making complex systems easier to understand and use.\n",
    "\n",
    "2.Encapsulation focuses on bundling the data and methods together and controlling access to them to prevent unintended \n",
    "modifications or misuse, ensuring data integrity and security"
   ]
  },
  {
   "cell_type": "code",
   "execution_count": 10,
   "id": "289a252e",
   "metadata": {},
   "outputs": [
    {
     "name": "stdout",
     "output_type": "stream",
     "text": [
      "Hello, my name is Dev.\n",
      "Hello, my name is Ved.\n"
     ]
    }
   ],
   "source": [
    "#  1.Abstractio:\n",
    "        \n",
    "class Person:\n",
    "    def __init__(self, name, age):\n",
    "        self.name = name\n",
    "        self.age = age\n",
    "    \n",
    "    def greet(self):\n",
    "        print(f\"Hello, my name is {self.name}.\")\n",
    "\n",
    "person1 = Person(\"Dev\", 30)\n",
    "person2 = Person(\"Ved\", 25)\n",
    "\n",
    "person1.greet()\n",
    "person2.greet()\n",
    "\n",
    "\n"
   ]
  },
  {
   "cell_type": "code",
   "execution_count": 7,
   "id": "eee43990",
   "metadata": {},
   "outputs": [
    {
     "name": "stdout",
     "output_type": "stream",
     "text": [
      "Hello, my name is Dev. I am 30 years old.\n",
      "Hello, my name is Ved. I am 25 years old.\n"
     ]
    }
   ],
   "source": [
    "# 2.Encapsulation\n",
    "\n",
    "class Person:\n",
    "    def __init__(self, name, age):\n",
    "        self.__name = name  \n",
    "        self.__age = age    \n",
    "    \n",
    "    def greet(self):\n",
    "        print(f\"Hello, my name is {self.__name}. I am {self.__age} years old.\")\n",
    "\n",
    "person1 = Person(\"Dev\", 30)\n",
    "person2 = Person(\"Ved\", 25)\n",
    "\n",
    "person1.greet()\n",
    "person2.greet()\n"
   ]
  },
  {
   "cell_type": "raw",
   "id": "e238eb13",
   "metadata": {},
   "source": [
    "Q3. What is abc module in python? Why is it used?"
   ]
  },
  {
   "cell_type": "raw",
   "id": "bb40974d",
   "metadata": {},
   "source": [
    "abc Module in Python\n",
    "The abc module in Python stands for \"Abstract Base Classes\". It provides mechanisms for defining abstract base classes and abstract methods.\n",
    "1.Defining Abstract Base Classes (ABCs)\n",
    "2.Enforcing Method Contracts\n",
    "3.Polymorphism and Duck Typing\n",
    "4.Design and Structure\n",
    "\n"
   ]
  },
  {
   "cell_type": "raw",
   "id": "c61d7f5d",
   "metadata": {},
   "source": [
    "Q4. How can we achieve data abstraction?"
   ]
  },
  {
   "cell_type": "raw",
   "id": "ee8f06e5",
   "metadata": {},
   "source": [
    "1.Using Classes and Objects\n",
    "   a.Encapsulation\n",
    "   b. Access Control\n",
    "2.Using Functions:\n",
    "3.Data Structures "
   ]
  },
  {
   "cell_type": "code",
   "execution_count": null,
   "id": "c48fe4fb",
   "metadata": {},
   "outputs": [],
   "source": []
  }
 ],
 "metadata": {
  "kernelspec": {
   "display_name": "Python 3 (ipykernel)",
   "language": "python",
   "name": "python3"
  },
  "language_info": {
   "codemirror_mode": {
    "name": "ipython",
    "version": 3
   },
   "file_extension": ".py",
   "mimetype": "text/x-python",
   "name": "python",
   "nbconvert_exporter": "python",
   "pygments_lexer": "ipython3",
   "version": "3.10.9"
  }
 },
 "nbformat": 4,
 "nbformat_minor": 5
}
