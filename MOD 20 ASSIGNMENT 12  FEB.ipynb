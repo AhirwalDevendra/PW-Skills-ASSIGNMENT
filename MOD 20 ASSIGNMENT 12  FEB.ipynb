{
 "cells": [
  {
   "cell_type": "markdown",
   "id": "c0b55c0a",
   "metadata": {},
   "source": [
    "# Q1. What is an Exception in Python? Write the difference between Exceptions and Syntax Errors"
   ]
  },
  {
   "cell_type": "raw",
   "id": "e5ac33d3",
   "metadata": {},
   "source": [
    "1.Exception\n",
    "\n",
    "An exception in Python is an event that occurs during the execution of a program that disrupts the normal flow of \n",
    "instructions. When an error occurs within a Python program, the interpreter raises an exception.\n",
    "If the exception is not handled, the program will stop and produce an error message.\n",
    "\n",
    "Exceptions are typically used to handle errors that arise during runtime, \n",
    "such as attempting to divide by zero,"
   ]
  },
  {
   "cell_type": "code",
   "execution_count": 5,
   "id": "bdad18f6",
   "metadata": {},
   "outputs": [
    {
     "name": "stdout",
     "output_type": "stream",
     "text": [
      "You cannot divide by zero!\n"
     ]
    }
   ],
   "source": [
    "\n",
    "try:\n",
    "    result = 10 / 0 \n",
    "except ZeroDivisionError:\n",
    "    print(\"You cannot divide by zero!\")\n",
    "\n"
   ]
  },
  {
   "cell_type": "raw",
   "id": "22fbdbdb",
   "metadata": {},
   "source": [
    "2.Syntax Error:\n",
    "    Syntax errors are different from exceptions in that they are not related to the logical flow of the program, \n",
    "    but rather to the structure of the code itself.\n",
    "    \n",
    "    "
   ]
  },
  {
   "cell_type": "code",
   "execution_count": null,
   "id": "06d813af",
   "metadata": {},
   "outputs": [],
   "source": [
    "if True\n",
    "    print(\"This will cause a syntax error due to missing colon.\")"
   ]
  },
  {
   "cell_type": "markdown",
   "id": "249528e6",
   "metadata": {},
   "source": [
    "# Q2. What happens when an exception is not handled? Explain with an example."
   ]
  },
  {
   "cell_type": "raw",
   "id": "66d7971e",
   "metadata": {},
   "source": [
    "When an exception is not handled in Python, it causes the program to terminate abruptly and print an error message (traceback) to the console.\n",
    "This traceback provides details about the exception, including the type of exception, the error message, and the line number where the exception occurred.\n"
   ]
  },
  {
   "cell_type": "code",
   "execution_count": null,
   "id": "bfa8301a",
   "metadata": {},
   "outputs": [],
   "source": [
    "# This code will cause an unhandled exception\n",
    "result = 10 / 0  # This will raise a ZeroDivisionError\n",
    "\n",
    "print(\"This will not be printed because of the error\")"
   ]
  },
  {
   "cell_type": "markdown",
   "id": "a40cfcb1",
   "metadata": {},
   "source": [
    "# Q3. Which Python statements are used to catch and handle exceptions? Explain with an example."
   ]
  },
  {
   "cell_type": "code",
   "execution_count": null,
   "id": "d2905812",
   "metadata": {},
   "outputs": [],
   "source": [
    "1.try block: This block contains the code that might raise an exception.\n",
    "    \n",
    "2.except block: This block contains the code that runs if an exception occurs in the try block.\n",
    "    \n",
    "3.else block: This block contains the code that runs if no exception occurs in the try block. \n",
    "    \n",
    "4.finally block: This block contains the code that always runs, regardless of whether an exception occurred or not."
   ]
  },
  {
   "cell_type": "code",
   "execution_count": 11,
   "id": "48ce077e",
   "metadata": {},
   "outputs": [
    {
     "name": "stdout",
     "output_type": "stream",
     "text": [
      "Enter a number: 0\n",
      "You cannot divide by zero.\n",
      "Execution completed.\n"
     ]
    }
   ],
   "source": [
    "try:\n",
    "   \n",
    "    number = int(input(\"Enter a number: \"))\n",
    "    result = 10 / number\n",
    "except ValueError:\n",
    "   \n",
    "    print(\"You must enter an integer.\")\n",
    "except ZeroDivisionError:\n",
    "   \n",
    "    print(\"You cannot divide by zero.\")\n",
    "    \n",
    "else:\n",
    "    # Code that runs if no exception occurs\n",
    "    print(f\"The result is {result}\")\n",
    "finally:\n",
    "    # Code that always runs\n",
    "    print(\"Execution completed.\")"
   ]
  },
  {
   "cell_type": "code",
   "execution_count": null,
   "id": "1a1e542c",
   "metadata": {},
   "outputs": [],
   "source": [
    "\n",
    "Q4. Explain with an example: \n",
    "    a.try and else,\n",
    "    b.finally, \n",
    "    c.raise\n",
    "    "
   ]
  },
  {
   "cell_type": "code",
   "execution_count": 13,
   "id": "0c7f7850",
   "metadata": {},
   "outputs": [
    {
     "name": "stdout",
     "output_type": "stream",
     "text": [
      "The result is 5.0\n",
      "Execution of try block is complete.\n",
      "You cannot divide by zero!\n",
      "Execution of try block is complete.\n",
      "An error occurred: This is a custom error message.\n",
      "Execution of raise_exception block is complete.\n"
     ]
    }
   ],
   "source": [
    "def divide_numbers(a, b):\n",
    "    try:\n",
    "        \n",
    "        result = a / b\n",
    "    except ZeroDivisionError:\n",
    "       \n",
    "        print(\"You cannot divide by zero!\")\n",
    "    else:\n",
    "       \n",
    "        print(f\"The result is {result}\")\n",
    "    finally:\n",
    "  \n",
    "        print(\"Execution of try block is complete.\")\n",
    "\n",
    "def raise_exception():\n",
    "    try:\n",
    "     \n",
    "        raise ValueError(\"This is a custom error message.\")\n",
    "    except ValueError as e:\n",
    "     \n",
    "        print(f\"An error occurred: {e}\")\n",
    "    finally:\n",
    "      \n",
    "        print(\"Execution of raise_exception block is complete.\")\n",
    "\n",
    "\n",
    "divide_numbers(10, 2)\n",
    "divide_numbers(10, 0)\n",
    "\n",
    "\n",
    "raise_exception()\n"
   ]
  },
  {
   "cell_type": "raw",
   "id": "02baf8be",
   "metadata": {},
   "source": [
    "1.try block:\n",
    "\n",
    "Contains code that may raise an exception. In divide_numbers, it attempts to divide a by b.\n",
    "except block:\n",
    "    \n",
    "2.except block:    \n",
    "\n",
    "Catches and handles specific exceptions. In divide_numbers, it handles ZeroDivisionError by printing an error message.\n",
    "else block:\n",
    "    \n",
    "3.else block:   \n",
    "\n",
    "Executes if no exceptions are raised in the try block. In divide_numbers, it prints the division result if no exception occurs.\n",
    "finally block:\n",
    "\n",
    "4.finally block:\n",
    "    \n",
    "Always executes, regardless of whether an exception occurred. It prints a completion message in both functions.\n",
    "raise statement:\n",
    "    \n",
    "5.raise statement:\n",
    "\n",
    "Used to intentionally raise an exception. In raise_exception, it raises a ValueError with a custom message."
   ]
  },
  {
   "cell_type": "markdown",
   "id": "69b362d2",
   "metadata": {},
   "source": [
    "# Q5. What are Custom Exceptions in Python? Why do we need Custom Exceptions? Explain with an example."
   ]
  },
  {
   "cell_type": "raw",
   "id": "63ab3332",
   "metadata": {},
   "source": [
    "What are Custom Exceptions?\n",
    "\n",
    "Custom exceptions in Python are errors that programmers define for specific situations in their code. \n",
    "They extend Python's built-in exceptions to handle unique problems that might occur in their programs."
   ]
  },
  {
   "cell_type": "raw",
   "id": "cfdaef16",
   "metadata": {},
   "source": [
    "# Why do we need Custom Exceptions?\n",
    "\n",
    "Specific Errors: Python's built-in exceptions cover general errors like division by zero or file not found. \n",
    "    Custom exceptions let programmers define specific errors tailored to their programs' needs.\n",
    "\n",
    "Clear Error Messages: Custom exceptions provide clear and meaningful error messages, \n",
    "    making it easier to understand what went wrong during program execution.\n",
    "\n",
    "Organized Error Handling: By defining custom exceptions, programmers can handle different errors in a structured way,\n",
    "    improving the reliability and maintainability of their code. in a paragraph"
   ]
  },
  {
   "cell_type": "code",
   "execution_count": 15,
   "id": "297ba1b7",
   "metadata": {},
   "outputs": [
    {
     "name": "stdout",
     "output_type": "stream",
     "text": [
      "The email 'dev.ahirwal@example.com' is valid.\n",
      "Error: Invalid email format: invalid.email\n"
     ]
    }
   ],
   "source": [
    "# Define a custom exception for invalid email format\n",
    "\n",
    "class InvalidEmailError(Exception):\n",
    "    pass\n",
    "\n",
    "\n",
    "def validate_email(email):\n",
    "    if \"@\" not in email:\n",
    "        raise InvalidEmailError(f\"Invalid email format: {email}\")\n",
    "    else:\n",
    "        print(f\"The email '{email}' is valid.\")\n",
    "\n",
    "try:\n",
    "    validate_email(\"dev.ahirwal@example.com\")  #\n",
    "    validate_email(\"invalid.email\")   \n",
    "except InvalidEmailError as e:\n",
    "    print(f\"Error: {e}\")"
   ]
  },
  {
   "cell_type": "markdown",
   "id": "472af7cc",
   "metadata": {},
   "source": [
    "# Question 6 : Create a custom exception class . Use this class to handle exception"
   ]
  },
  {
   "cell_type": "code",
   "execution_count": 20,
   "id": "a3e7287b",
   "metadata": {},
   "outputs": [
    {
     "name": "stdout",
     "output_type": "stream",
     "text": [
      "enter your age 501\n",
      "age is out of range \n",
      "end of programm\n"
     ]
    }
   ],
   "source": [
    "class validateage(Exception):\n",
    "    def __init__(self,msg):\n",
    "        self.msg=msg\n",
    "def validate_age(age):\n",
    "    if age<0 :\n",
    "        raise validateage(\"age cannot be negative\")\n",
    "        \n",
    "    elif age>120 :\n",
    "        raise validateage(\"age is out of range \")\n",
    "        \n",
    "    else :\n",
    "        raise validateage(\"age is valid\")\n",
    "        \n",
    "try :\n",
    "    age=int(input('enter your age '))\n",
    "    validate_age(age)\n",
    "    \n",
    "except validateage as e :\n",
    "    print(e)\n",
    "    \n",
    "else :\n",
    "    print(validate_age(age))\n",
    "    \n",
    "finally :\n",
    "    print(\"end of programm\")\n"
   ]
  },
  {
   "cell_type": "code",
   "execution_count": null,
   "id": "55e8c9a2",
   "metadata": {},
   "outputs": [],
   "source": []
  }
 ],
 "metadata": {
  "kernelspec": {
   "display_name": "Python 3 (ipykernel)",
   "language": "python",
   "name": "python3"
  },
  "language_info": {
   "codemirror_mode": {
    "name": "ipython",
    "version": 3
   },
   "file_extension": ".py",
   "mimetype": "text/x-python",
   "name": "python",
   "nbconvert_exporter": "python",
   "pygments_lexer": "ipython3",
   "version": "3.10.9"
  }
 },
 "nbformat": 4,
 "nbformat_minor": 5
}
