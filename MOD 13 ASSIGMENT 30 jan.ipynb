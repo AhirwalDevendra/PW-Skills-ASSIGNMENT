{
 "cells": [
  {
   "cell_type": "raw",
   "id": "9633fd58",
   "metadata": {},
   "source": [
    "# Q1: Write a program to accept percentage from the user and display the grade according to the following criteria:"
   ]
  },
  {
   "cell_type": "code",
   "execution_count": 1,
   "id": "7416096f",
   "metadata": {},
   "outputs": [
    {
     "name": "stdout",
     "output_type": "stream",
     "text": [
      "Enter your marks: 45\n",
      "Grade D\n"
     ]
    }
   ],
   "source": [
    "marks = int(input(\"Enter your marks: \"))\n",
    "\n",
    "if marks > 90:\n",
    "    print(\"Grade A\")\n",
    "elif marks > 80:\n",
    "    print(\"Grade B\")\n",
    "elif marks >= 60:\n",
    "    print(\"Grade C\")\n",
    "else:\n",
    "    print(\"Grade D\")\n"
   ]
  },
  {
   "cell_type": "raw",
   "id": "8bc49e48",
   "metadata": {},
   "source": [
    "Q2: Write a program to accept the cost price of a bike and display the road tax to be paid according to the following criteria:"
   ]
  },
  {
   "cell_type": "code",
   "execution_count": 2,
   "id": "aee93b5b",
   "metadata": {},
   "outputs": [
    {
     "name": "stdout",
     "output_type": "stream",
     "text": [
      "Enter the cost price of your bike: 45\n",
      "5% road tax\n"
     ]
    }
   ],
   "source": [
    "cost_price = int(input(\"Enter the cost price of your bike: \"))\n",
    "\n",
    "if cost_price > 100000:\n",
    "    print(\"15% road tax\")\n",
    "elif cost_price > 50000:\n",
    "    print(\"10% road tax\")\n",
    "else:\n",
    "    print(\"5% road tax\")\n"
   ]
  },
  {
   "cell_type": "raw",
   "id": "e95cbc29",
   "metadata": {},
   "source": [
    "Q3: Accept any city from the user and display monuments of that city."
   ]
  },
  {
   "cell_type": "code",
   "execution_count": 5,
   "id": "117f53f8",
   "metadata": {},
   "outputs": [
    {
     "name": "stdout",
     "output_type": "stream",
     "text": [
      "Enter city name: Delhi\n",
      "Monument present here is Red Fort\n"
     ]
    }
   ],
   "source": [
    "city = input(\"Enter city name: \")\n",
    "\n",
    "if city == \"Delhi\":\n",
    "    print(\"Monument present here is Red Fort\")\n",
    "elif city == \"Agra\":\n",
    "    print(\"Monument present here is Taj Mahal\")\n",
    "elif city == \"Jaipur\":\n",
    "    print(\"Monument present here is Jal Mahal\")\n",
    "else:\n",
    "    print(\"City not found or monument information not available.\")\n"
   ]
  },
  {
   "cell_type": "raw",
   "id": "0ab3ccc6",
   "metadata": {},
   "source": [
    "Q4: Check how many times a given number can be divided by 3 before it is less than or equal to 10."
   ]
  },
  {
   "cell_type": "code",
   "execution_count": 7,
   "id": "72fdaf1a",
   "metadata": {},
   "outputs": [
    {
     "name": "stdout",
     "output_type": "stream",
     "text": [
      "Enter any number: 456\n",
      "Times the number can be divided by three: 4 times.\n"
     ]
    }
   ],
   "source": [
    "num = int(input(\"Enter any number: \"))\n",
    "counter = 0\n",
    "\n",
    "while num > 10:\n",
    "    num = num / 3\n",
    "    counter += 1\n",
    "\n",
    "print(f'Times the number can be divided by three: {counter} times.')\n"
   ]
  },
  {
   "cell_type": "raw",
   "id": "d3ac5fbe",
   "metadata": {},
   "source": [
    "Q5: Why and When to use While loop in Python, give a detailed description with an example."
   ]
  },
  {
   "cell_type": "code",
   "execution_count": 8,
   "id": "8a53700c",
   "metadata": {},
   "outputs": [
    {
     "name": "stdout",
     "output_type": "stream",
     "text": [
      "20\n",
      "21\n",
      "22\n",
      "23\n",
      "24\n",
      "25\n",
      "26\n",
      "27\n",
      "28\n",
      "29\n",
      "30\n",
      "31\n",
      "32\n",
      "33\n",
      "34\n",
      "35\n"
     ]
    }
   ],
   "source": [
    "# Example of using while loop:\n",
    "a = 20\n",
    "while a <= 35:\n",
    "    print(a)\n",
    "    a += 1\n"
   ]
  },
  {
   "cell_type": "raw",
   "id": "c0884a93",
   "metadata": {},
   "source": [
    "Q6: Use nested while loop to print 3 different patterns."
   ]
  },
  {
   "cell_type": "code",
   "execution_count": 12,
   "id": "e1da0168",
   "metadata": {},
   "outputs": [
    {
     "name": "stdout",
     "output_type": "stream",
     "text": [
      "Enter number of rows: 4\n",
      "****\n",
      "***\n",
      "**\n",
      "*\n",
      "Enter number of rows: 3\n",
      "  *\n",
      " **\n",
      "***\n",
      "Enter number of rows: 2\n",
      " * \n",
      "***\n"
     ]
    }
   ],
   "source": [
    "# Pattern 1\n",
    "a = int(input(\"Enter number of rows: \"))\n",
    "while a > 0:\n",
    "    print(\"*\" * a)\n",
    "    a -= 1\n",
    "\n",
    "# Pattern 2\n",
    "a = int(input(\"Enter number of rows: \"))\n",
    "b = 1\n",
    "while a > 0:\n",
    "    print(\" \" * (a - 1) + \"*\" * b)\n",
    "    a -= 1\n",
    "    b += 1\n",
    "\n",
    "# Pattern 3\n",
    "a = int(input(\"Enter number of rows: \"))\n",
    "b = 1\n",
    "while a > 0:\n",
    "    print(\" \" * (a - 1) + \"*\" * b + \" \" * (a - 1))\n",
    "    a -= 1\n",
    "    b += 2\n"
   ]
  },
  {
   "cell_type": "raw",
   "id": "220ef85d",
   "metadata": {},
   "source": [
    "Q7: Reverse a while loop to display numbers from 10 to 1."
   ]
  },
  {
   "cell_type": "code",
   "execution_count": 13,
   "id": "9b569e80",
   "metadata": {},
   "outputs": [
    {
     "name": "stdout",
     "output_type": "stream",
     "text": [
      "10\n",
      "9\n",
      "8\n",
      "7\n",
      "6\n",
      "5\n",
      "4\n",
      "3\n",
      "2\n",
      "1\n"
     ]
    }
   ],
   "source": [
    "a = 10\n",
    "while a > 0:\n",
    "    print(a)\n",
    "    a -= 1\n"
   ]
  },
  {
   "cell_type": "code",
   "execution_count": null,
   "id": "0c7f13fc",
   "metadata": {},
   "outputs": [],
   "source": []
  },
  {
   "cell_type": "code",
   "execution_count": null,
   "id": "e8a33140",
   "metadata": {},
   "outputs": [],
   "source": []
  },
  {
   "cell_type": "code",
   "execution_count": null,
   "id": "dfdc06f6",
   "metadata": {},
   "outputs": [],
   "source": []
  },
  {
   "cell_type": "code",
   "execution_count": null,
   "id": "6ee19e21",
   "metadata": {},
   "outputs": [],
   "source": []
  }
 ],
 "metadata": {
  "kernelspec": {
   "display_name": "Python 3 (ipykernel)",
   "language": "python",
   "name": "python3"
  },
  "language_info": {
   "codemirror_mode": {
    "name": "ipython",
    "version": 3
   },
   "file_extension": ".py",
   "mimetype": "text/x-python",
   "name": "python",
   "nbconvert_exporter": "python",
   "pygments_lexer": "ipython3",
   "version": "3.10.9"
  }
 },
 "nbformat": 4,
 "nbformat_minor": 5
}
